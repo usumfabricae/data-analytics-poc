{
 "cells": [
  {
   "cell_type": "markdown",
   "metadata": {},
   "source": [
    "# Setup Environment\n",
    "Creo una sessione con Sagemaker in modo da poterlo utilizzare e definisco alcune variabili di lavoro"
   ]
  },
  {
   "cell_type": "code",
   "execution_count": 69,
   "metadata": {},
   "outputs": [],
   "source": [
    "import os\n",
    "import subprocess\n",
    "import boto3\n",
    "import sagemaker\n",
    "\n",
    "from sagemaker import get_execution_role\n",
    "\n",
    "sagemaker_session = sagemaker.Session()\n",
    "role = get_execution_role()\n",
    "s3_bucket_name=sagemaker_session.default_bucket()\n",
    "\n",
    "prefix=\"AnalisiChurn\""
   ]
  },
  {
   "cell_type": "markdown",
   "metadata": {},
   "source": [
    "### Uso Athena per mettere a punto le query di estrazione\n",
    "Athena è un servizio di query serverless. Il modello di costo è i base ai TB di dati scansionati per produrre generare la risposta.\n",
    "Le feature principali sono:\n",
    "* Immediatamente disponibile: Legge le informazioni sui dati (struttura e dove trovarli nel datalake) direttamente dal Catalogo\n",
    "* nessuna query = Costo 0\n",
    "* Consente di fare data mashup: Può leggere e correlare informazioni provenienti da sorgenti diverse: Datalake, Database Relazionali, DWH (Redshift)\n",
    "\n",
    "E' uno strumento adatto per analizzare i dati presenti all'interno di una azienda"
   ]
  },
  {
   "cell_type": "markdown",
   "metadata": {},
   "source": [
    "Installo le librerie per poter scaricare i dati da Athena e finire la preparazione del dataset"
   ]
  },
  {
   "cell_type": "code",
   "execution_count": 2,
   "metadata": {},
   "outputs": [
    {
     "name": "stdout",
     "output_type": "stream",
     "text": [
      "Collecting PyAthena\n",
      "  Downloading PyAthena-1.11.2-py2.py3-none-any.whl (53 kB)\n",
      "\u001b[K     |████████████████████████████████| 53 kB 2.3 MB/s  eta 0:00:01\n",
      "\u001b[?25hCollecting tenacity>=4.1.0\n",
      "  Downloading tenacity-6.2.0-py2.py3-none-any.whl (24 kB)\n",
      "Requirement already satisfied: future in /home/ec2-user/anaconda3/envs/python3/lib/python3.6/site-packages (from PyAthena) (0.18.2)\n",
      "Requirement already satisfied: boto3>=1.4.4 in /home/ec2-user/anaconda3/envs/python3/lib/python3.6/site-packages (from PyAthena) (1.15.8)\n",
      "Requirement already satisfied: botocore>=1.5.52 in /home/ec2-user/anaconda3/envs/python3/lib/python3.6/site-packages (from PyAthena) (1.18.8)\n",
      "Requirement already satisfied: six>=1.9.0 in /home/ec2-user/anaconda3/envs/python3/lib/python3.6/site-packages (from tenacity>=4.1.0->PyAthena) (1.14.0)\n",
      "Requirement already satisfied: s3transfer<0.4.0,>=0.3.0 in /home/ec2-user/anaconda3/envs/python3/lib/python3.6/site-packages (from boto3>=1.4.4->PyAthena) (0.3.3)\n",
      "Requirement already satisfied: jmespath<1.0.0,>=0.7.1 in /home/ec2-user/anaconda3/envs/python3/lib/python3.6/site-packages (from boto3>=1.4.4->PyAthena) (0.10.0)\n",
      "Requirement already satisfied: urllib3<1.26,>=1.20; python_version != \"3.4\" in /home/ec2-user/anaconda3/envs/python3/lib/python3.6/site-packages (from botocore>=1.5.52->PyAthena) (1.25.8)\n",
      "Requirement already satisfied: python-dateutil<3.0.0,>=2.1 in /home/ec2-user/anaconda3/envs/python3/lib/python3.6/site-packages (from botocore>=1.5.52->PyAthena) (2.8.1)\n",
      "Installing collected packages: tenacity, PyAthena\n",
      "Successfully installed PyAthena-1.11.2 tenacity-6.2.0\n",
      "\u001b[33mWARNING: You are using pip version 20.0.2; however, version 20.2.4 is available.\n",
      "You should consider upgrading via the '/home/ec2-user/anaconda3/envs/python3/bin/python -m pip install --upgrade pip' command.\u001b[0m\n"
     ]
    }
   ],
   "source": [
    "import sys\n",
    "!{sys.executable} -m pip install PyAthena"
   ]
  },
  {
   "cell_type": "markdown",
   "metadata": {},
   "source": [
    "Mi collego all'istanza di Athena della region dove ho creato il datalake"
   ]
  },
  {
   "cell_type": "code",
   "execution_count": 3,
   "metadata": {},
   "outputs": [],
   "source": [
    "from pyathena import connect\n",
    "import pandas as pd\n",
    "conn = connect(s3_staging_dir='s3://fede-analytics-694275606777/athena_queries_sagemaker',\n",
    "               region_name='eu-west-1')"
   ]
  },
  {
   "cell_type": "code",
   "execution_count": 30,
   "metadata": {},
   "outputs": [],
   "source": [
    "df_churn = pd.read_sql(\"\"\"\n",
    "select *\n",
    "from datalake.customer_view_churn_analisys a ,datalake.jconsensi_json b \n",
    "where\n",
    "a.key_soggetti=b.index and\n",
    "b.consenso='Y' limit 10000\n",
    "\"\"\", conn)"
   ]
  },
  {
   "cell_type": "code",
   "execution_count": 33,
   "metadata": {},
   "outputs": [
    {
     "data": {
      "text/html": [
       "<div>\n",
       "<style scoped>\n",
       "    .dataframe tbody tr th:only-of-type {\n",
       "        vertical-align: middle;\n",
       "    }\n",
       "\n",
       "    .dataframe tbody tr th {\n",
       "        vertical-align: top;\n",
       "    }\n",
       "\n",
       "    .dataframe thead th {\n",
       "        text-align: right;\n",
       "    }\n",
       "</style>\n",
       "<table border=\"1\" class=\"dataframe\">\n",
       "  <thead>\n",
       "    <tr style=\"text-align: right;\">\n",
       "      <th></th>\n",
       "      <th>key_soggetti</th>\n",
       "      <th>nazione_nascita</th>\n",
       "      <th>rating_creditizio</th>\n",
       "      <th>retention_value</th>\n",
       "      <th>comune_residenza</th>\n",
       "      <th>cognome</th>\n",
       "      <th>eta_cliente</th>\n",
       "      <th>vas</th>\n",
       "      <th>canale_contatto_preferenziale</th>\n",
       "      <th>titolo_di_studio</th>\n",
       "      <th>...</th>\n",
       "      <th>sardegna</th>\n",
       "      <th>sicilia</th>\n",
       "      <th>toscana</th>\n",
       "      <th>trentino_alto_adige</th>\n",
       "      <th>umbria</th>\n",
       "      <th>valle_d_aosta</th>\n",
       "      <th>veneto</th>\n",
       "      <th>index</th>\n",
       "      <th>consenso</th>\n",
       "      <th>timestamp</th>\n",
       "    </tr>\n",
       "  </thead>\n",
       "  <tbody>\n",
       "    <tr>\n",
       "      <th>0</th>\n",
       "      <td>107093.0</td>\n",
       "      <td>Italia</td>\n",
       "      <td>C</td>\n",
       "      <td>None</td>\n",
       "      <td>Molfetta</td>\n",
       "      <td>Carosi</td>\n",
       "      <td>52.0</td>\n",
       "      <td>None</td>\n",
       "      <td>None</td>\n",
       "      <td>Laurea magistrale</td>\n",
       "      <td>...</td>\n",
       "      <td>NaN</td>\n",
       "      <td>NaN</td>\n",
       "      <td>NaN</td>\n",
       "      <td>NaN</td>\n",
       "      <td>NaN</td>\n",
       "      <td>NaN</td>\n",
       "      <td>NaN</td>\n",
       "      <td>107093</td>\n",
       "      <td>Y</td>\n",
       "      <td>1499048803977</td>\n",
       "    </tr>\n",
       "    <tr>\n",
       "      <th>1</th>\n",
       "      <td>107093.0</td>\n",
       "      <td>Italia</td>\n",
       "      <td>C</td>\n",
       "      <td>None</td>\n",
       "      <td>Molfetta</td>\n",
       "      <td>Carosi</td>\n",
       "      <td>52.0</td>\n",
       "      <td>None</td>\n",
       "      <td>None</td>\n",
       "      <td>Laurea magistrale</td>\n",
       "      <td>...</td>\n",
       "      <td>NaN</td>\n",
       "      <td>NaN</td>\n",
       "      <td>NaN</td>\n",
       "      <td>NaN</td>\n",
       "      <td>NaN</td>\n",
       "      <td>NaN</td>\n",
       "      <td>NaN</td>\n",
       "      <td>107093</td>\n",
       "      <td>Y</td>\n",
       "      <td>1483219486878</td>\n",
       "    </tr>\n",
       "    <tr>\n",
       "      <th>2</th>\n",
       "      <td>107093.0</td>\n",
       "      <td>Italia</td>\n",
       "      <td>C</td>\n",
       "      <td>None</td>\n",
       "      <td>Molfetta</td>\n",
       "      <td>Carosi</td>\n",
       "      <td>52.0</td>\n",
       "      <td>None</td>\n",
       "      <td>None</td>\n",
       "      <td>Laurea magistrale</td>\n",
       "      <td>...</td>\n",
       "      <td>NaN</td>\n",
       "      <td>NaN</td>\n",
       "      <td>NaN</td>\n",
       "      <td>NaN</td>\n",
       "      <td>NaN</td>\n",
       "      <td>NaN</td>\n",
       "      <td>NaN</td>\n",
       "      <td>107093</td>\n",
       "      <td>Y</td>\n",
       "      <td>1553732703853</td>\n",
       "    </tr>\n",
       "    <tr>\n",
       "      <th>3</th>\n",
       "      <td>1341473.0</td>\n",
       "      <td>Italia</td>\n",
       "      <td>C</td>\n",
       "      <td>SILVER</td>\n",
       "      <td>Brescia</td>\n",
       "      <td>Mazzucco</td>\n",
       "      <td>54.0</td>\n",
       "      <td>None</td>\n",
       "      <td>Telefono</td>\n",
       "      <td>Dottorato</td>\n",
       "      <td>...</td>\n",
       "      <td>NaN</td>\n",
       "      <td>NaN</td>\n",
       "      <td>NaN</td>\n",
       "      <td>NaN</td>\n",
       "      <td>NaN</td>\n",
       "      <td>NaN</td>\n",
       "      <td>NaN</td>\n",
       "      <td>1341473</td>\n",
       "      <td>Y</td>\n",
       "      <td>1492187243172</td>\n",
       "    </tr>\n",
       "    <tr>\n",
       "      <th>4</th>\n",
       "      <td>1341473.0</td>\n",
       "      <td>Italia</td>\n",
       "      <td>C</td>\n",
       "      <td>SILVER</td>\n",
       "      <td>Brescia</td>\n",
       "      <td>Mazzucco</td>\n",
       "      <td>54.0</td>\n",
       "      <td>None</td>\n",
       "      <td>Telefono</td>\n",
       "      <td>Dottorato</td>\n",
       "      <td>...</td>\n",
       "      <td>NaN</td>\n",
       "      <td>NaN</td>\n",
       "      <td>NaN</td>\n",
       "      <td>NaN</td>\n",
       "      <td>NaN</td>\n",
       "      <td>NaN</td>\n",
       "      <td>NaN</td>\n",
       "      <td>1341473</td>\n",
       "      <td>Y</td>\n",
       "      <td>1535647781701</td>\n",
       "    </tr>\n",
       "  </tbody>\n",
       "</table>\n",
       "<p>5 rows × 45 columns</p>\n",
       "</div>"
      ],
      "text/plain": [
       "   key_soggetti nazione_nascita rating_creditizio retention_value  \\\n",
       "0      107093.0          Italia                 C            None   \n",
       "1      107093.0          Italia                 C            None   \n",
       "2      107093.0          Italia                 C            None   \n",
       "3     1341473.0          Italia                 C          SILVER   \n",
       "4     1341473.0          Italia                 C          SILVER   \n",
       "\n",
       "  comune_residenza   cognome  eta_cliente   vas canale_contatto_preferenziale  \\\n",
       "0         Molfetta    Carosi         52.0  None                          None   \n",
       "1         Molfetta    Carosi         52.0  None                          None   \n",
       "2         Molfetta    Carosi         52.0  None                          None   \n",
       "3          Brescia  Mazzucco         54.0  None                      Telefono   \n",
       "4          Brescia  Mazzucco         54.0  None                      Telefono   \n",
       "\n",
       "    titolo_di_studio  ... sardegna sicilia toscana  trentino_alto_adige  \\\n",
       "0  Laurea magistrale  ...      NaN     NaN     NaN                  NaN   \n",
       "1  Laurea magistrale  ...      NaN     NaN     NaN                  NaN   \n",
       "2  Laurea magistrale  ...      NaN     NaN     NaN                  NaN   \n",
       "3          Dottorato  ...      NaN     NaN     NaN                  NaN   \n",
       "4          Dottorato  ...      NaN     NaN     NaN                  NaN   \n",
       "\n",
       "   umbria  valle_d_aosta veneto    index  consenso      timestamp  \n",
       "0     NaN            NaN    NaN   107093         Y  1499048803977  \n",
       "1     NaN            NaN    NaN   107093         Y  1483219486878  \n",
       "2     NaN            NaN    NaN   107093         Y  1553732703853  \n",
       "3     NaN            NaN    NaN  1341473         Y  1492187243172  \n",
       "4     NaN            NaN    NaN  1341473         Y  1535647781701  \n",
       "\n",
       "[5 rows x 45 columns]"
      ]
     },
     "execution_count": 33,
     "metadata": {},
     "output_type": "execute_result"
    }
   ],
   "source": [
    "df_churn.head()"
   ]
  },
  {
   "cell_type": "markdown",
   "metadata": {},
   "source": [
    "## Uso Redshift per le query di estrazione"
   ]
  },
  {
   "cell_type": "code",
   "execution_count": 86,
   "metadata": {},
   "outputs": [
    {
     "name": "stdout",
     "output_type": "stream",
     "text": [
      "Collecting psycopg2-binary\n",
      "  Downloading psycopg2_binary-2.8.6-cp36-cp36m-manylinux1_x86_64.whl (3.0 MB)\n",
      "\u001b[K     |████████████████████████████████| 3.0 MB 9.4 MB/s eta 0:00:01\n",
      "\u001b[?25hInstalling collected packages: psycopg2-binary\n",
      "Successfully installed psycopg2-binary-2.8.6\n",
      "\u001b[33mWARNING: You are using pip version 20.0.2; however, version 20.2.4 is available.\n",
      "You should consider upgrading via the '/home/ec2-user/anaconda3/envs/python3/bin/python -m pip install --upgrade pip' command.\u001b[0m\n"
     ]
    }
   ],
   "source": [
    "!pip install psycopg2-binary"
   ]
  },
  {
   "cell_type": "code",
   "execution_count": 91,
   "metadata": {},
   "outputs": [],
   "source": [
    "import psycopg2\n",
    "rscon=psycopg2.connect(\n",
    "    dbname   = 'dev', \n",
    "    host     = '172.31.0.220', \n",
    "    port     = '5439', \n",
    "    user     = 'awsuser', \n",
    "    password = 'F3d3r1c0!'\n",
    ")"
   ]
  },
  {
   "cell_type": "code",
   "execution_count": 92,
   "metadata": {},
   "outputs": [],
   "source": [
    "df_churn = pd.read_sql(\"\"\"\n",
    "select *\n",
    "from local_customer_view_churn_analisys a ,datalake.jconsensi_json b \n",
    "where\n",
    "a.key_soggetti=b.index and\n",
    "b.consenso='Y' limit 10000\n",
    "\"\"\", rscon)"
   ]
  },
  {
   "cell_type": "code",
   "execution_count": 93,
   "metadata": {},
   "outputs": [
    {
     "data": {
      "text/html": [
       "<div>\n",
       "<style scoped>\n",
       "    .dataframe tbody tr th:only-of-type {\n",
       "        vertical-align: middle;\n",
       "    }\n",
       "\n",
       "    .dataframe tbody tr th {\n",
       "        vertical-align: top;\n",
       "    }\n",
       "\n",
       "    .dataframe thead th {\n",
       "        text-align: right;\n",
       "    }\n",
       "</style>\n",
       "<table border=\"1\" class=\"dataframe\">\n",
       "  <thead>\n",
       "    <tr style=\"text-align: right;\">\n",
       "      <th></th>\n",
       "      <th>key_soggetti</th>\n",
       "      <th>nazione_nascita</th>\n",
       "      <th>rating_creditizio</th>\n",
       "      <th>retention_value</th>\n",
       "      <th>comune_residenza</th>\n",
       "      <th>cognome</th>\n",
       "      <th>eta_cliente</th>\n",
       "      <th>vas</th>\n",
       "      <th>canale_contatto_preferenziale</th>\n",
       "      <th>titolo_di_studio</th>\n",
       "      <th>...</th>\n",
       "      <th>sardegna</th>\n",
       "      <th>sicilia</th>\n",
       "      <th>toscana</th>\n",
       "      <th>trentino_alto_adige</th>\n",
       "      <th>umbria</th>\n",
       "      <th>valle_d_aosta</th>\n",
       "      <th>veneto</th>\n",
       "      <th>index</th>\n",
       "      <th>consenso</th>\n",
       "      <th>timestamp</th>\n",
       "    </tr>\n",
       "  </thead>\n",
       "  <tbody>\n",
       "    <tr>\n",
       "      <th>0</th>\n",
       "      <td>1604775.0</td>\n",
       "      <td>Italia</td>\n",
       "      <td>B</td>\n",
       "      <td>None</td>\n",
       "      <td>Arezzo</td>\n",
       "      <td>Angelotti</td>\n",
       "      <td>46.0</td>\n",
       "      <td>None</td>\n",
       "      <td>None</td>\n",
       "      <td>Laurea breve</td>\n",
       "      <td>...</td>\n",
       "      <td>NaN</td>\n",
       "      <td>NaN</td>\n",
       "      <td>NaN</td>\n",
       "      <td>NaN</td>\n",
       "      <td>NaN</td>\n",
       "      <td>NaN</td>\n",
       "      <td>NaN</td>\n",
       "      <td>1604775</td>\n",
       "      <td>Y</td>\n",
       "      <td>1600326434645</td>\n",
       "    </tr>\n",
       "    <tr>\n",
       "      <th>1</th>\n",
       "      <td>1088307.0</td>\n",
       "      <td>Italia</td>\n",
       "      <td>B</td>\n",
       "      <td>None</td>\n",
       "      <td>Campobasso</td>\n",
       "      <td>Speranza</td>\n",
       "      <td>46.0</td>\n",
       "      <td>None</td>\n",
       "      <td>None</td>\n",
       "      <td>Dottorato</td>\n",
       "      <td>...</td>\n",
       "      <td>NaN</td>\n",
       "      <td>NaN</td>\n",
       "      <td>NaN</td>\n",
       "      <td>NaN</td>\n",
       "      <td>NaN</td>\n",
       "      <td>NaN</td>\n",
       "      <td>1.0</td>\n",
       "      <td>1088307</td>\n",
       "      <td>Y</td>\n",
       "      <td>1496441608767</td>\n",
       "    </tr>\n",
       "    <tr>\n",
       "      <th>2</th>\n",
       "      <td>1088307.0</td>\n",
       "      <td>Italia</td>\n",
       "      <td>B</td>\n",
       "      <td>None</td>\n",
       "      <td>Campobasso</td>\n",
       "      <td>Speranza</td>\n",
       "      <td>46.0</td>\n",
       "      <td>None</td>\n",
       "      <td>None</td>\n",
       "      <td>Dottorato</td>\n",
       "      <td>...</td>\n",
       "      <td>NaN</td>\n",
       "      <td>NaN</td>\n",
       "      <td>NaN</td>\n",
       "      <td>NaN</td>\n",
       "      <td>NaN</td>\n",
       "      <td>NaN</td>\n",
       "      <td>NaN</td>\n",
       "      <td>1088307</td>\n",
       "      <td>Y</td>\n",
       "      <td>1496441608767</td>\n",
       "    </tr>\n",
       "    <tr>\n",
       "      <th>3</th>\n",
       "      <td>1647075.0</td>\n",
       "      <td>Italia</td>\n",
       "      <td>B</td>\n",
       "      <td>None</td>\n",
       "      <td>Ragusa</td>\n",
       "      <td>Spano</td>\n",
       "      <td>28.0</td>\n",
       "      <td>None</td>\n",
       "      <td>Email</td>\n",
       "      <td>Dottorato</td>\n",
       "      <td>...</td>\n",
       "      <td>NaN</td>\n",
       "      <td>NaN</td>\n",
       "      <td>NaN</td>\n",
       "      <td>NaN</td>\n",
       "      <td>NaN</td>\n",
       "      <td>NaN</td>\n",
       "      <td>NaN</td>\n",
       "      <td>1647075</td>\n",
       "      <td>Y</td>\n",
       "      <td>1608780909624</td>\n",
       "    </tr>\n",
       "    <tr>\n",
       "      <th>4</th>\n",
       "      <td>1647075.0</td>\n",
       "      <td>Italia</td>\n",
       "      <td>B</td>\n",
       "      <td>None</td>\n",
       "      <td>Ragusa</td>\n",
       "      <td>Spano</td>\n",
       "      <td>28.0</td>\n",
       "      <td>None</td>\n",
       "      <td>Email</td>\n",
       "      <td>Dottorato</td>\n",
       "      <td>...</td>\n",
       "      <td>NaN</td>\n",
       "      <td>NaN</td>\n",
       "      <td>NaN</td>\n",
       "      <td>NaN</td>\n",
       "      <td>NaN</td>\n",
       "      <td>NaN</td>\n",
       "      <td>1.0</td>\n",
       "      <td>1647075</td>\n",
       "      <td>Y</td>\n",
       "      <td>1608780909624</td>\n",
       "    </tr>\n",
       "  </tbody>\n",
       "</table>\n",
       "<p>5 rows × 45 columns</p>\n",
       "</div>"
      ],
      "text/plain": [
       "   key_soggetti nazione_nascita rating_creditizio retention_value  \\\n",
       "0     1604775.0          Italia                 B            None   \n",
       "1     1088307.0          Italia                 B            None   \n",
       "2     1088307.0          Italia                 B            None   \n",
       "3     1647075.0          Italia                 B            None   \n",
       "4     1647075.0          Italia                 B            None   \n",
       "\n",
       "  comune_residenza    cognome  eta_cliente   vas  \\\n",
       "0           Arezzo  Angelotti         46.0  None   \n",
       "1       Campobasso   Speranza         46.0  None   \n",
       "2       Campobasso   Speranza         46.0  None   \n",
       "3           Ragusa      Spano         28.0  None   \n",
       "4           Ragusa      Spano         28.0  None   \n",
       "\n",
       "  canale_contatto_preferenziale titolo_di_studio  ... sardegna sicilia  \\\n",
       "0                          None     Laurea breve  ...      NaN     NaN   \n",
       "1                          None        Dottorato  ...      NaN     NaN   \n",
       "2                          None        Dottorato  ...      NaN     NaN   \n",
       "3                         Email        Dottorato  ...      NaN     NaN   \n",
       "4                         Email        Dottorato  ...      NaN     NaN   \n",
       "\n",
       "  toscana  trentino_alto_adige  umbria  valle_d_aosta veneto    index  \\\n",
       "0     NaN                  NaN     NaN            NaN    NaN  1604775   \n",
       "1     NaN                  NaN     NaN            NaN    1.0  1088307   \n",
       "2     NaN                  NaN     NaN            NaN    NaN  1088307   \n",
       "3     NaN                  NaN     NaN            NaN    NaN  1647075   \n",
       "4     NaN                  NaN     NaN            NaN    1.0  1647075   \n",
       "\n",
       "   consenso      timestamp  \n",
       "0         Y  1600326434645  \n",
       "1         Y  1496441608767  \n",
       "2         Y  1496441608767  \n",
       "3         Y  1608780909624  \n",
       "4         Y  1608780909624  \n",
       "\n",
       "[5 rows x 45 columns]"
      ]
     },
     "execution_count": 93,
     "metadata": {},
     "output_type": "execute_result"
    }
   ],
   "source": [
    "df_churn.head()"
   ]
  },
  {
   "cell_type": "code",
   "execution_count": 36,
   "metadata": {},
   "outputs": [],
   "source": [
    "df_churn=df_churn.drop (columns=['key_soggetti','rank','index','timestamp'])"
   ]
  },
  {
   "cell_type": "code",
   "execution_count": 45,
   "metadata": {},
   "outputs": [
    {
     "data": {
      "text/plain": [
       "array(['Puglia', 'Piemonte', 'Sardegna', 'Calabria', 'Veneto', 'Lazio',\n",
       "       'Umbria', 'Toscana', 'Lombardia', 'Emilia romagna', 'Campania',\n",
       "       'Friuli venezia giulia', 'Sicilia', 'Liguria', 'Valle d aosta',\n",
       "       'Basilicata', 'Trentino alto adige', 'Molise', 'Abruzzo', 'Marche'],\n",
       "      dtype=object)"
      ]
     },
     "execution_count": 45,
     "metadata": {},
     "output_type": "execute_result"
    }
   ],
   "source": [
    "regioni=df_churn['regione'].unique()\n",
    "regioni"
   ]
  },
  {
   "cell_type": "code",
   "execution_count": 49,
   "metadata": {},
   "outputs": [],
   "source": [
    "def get_regione (x):\n",
    "    if x>0:\n",
    "        return 1\n",
    "    return 0\n",
    "    \n",
    "for regione in regioni:\n",
    "    regione=regione.lower().replace(' ','_')\n",
    "    df_churn[regione+\"_lbl\"]=df_churn[regione].apply(lambda x: get_regione(x))"
   ]
  },
  {
   "cell_type": "code",
   "execution_count": 55,
   "metadata": {},
   "outputs": [],
   "source": [
    "def get_churn (x):\n",
    "    if x>0:\n",
    "        return 1\n",
    "    return 0\n",
    "df_churn[\"churn_tgt\"]=df_churn[\"churn\"].apply(lambda x: get_churn(x))"
   ]
  },
  {
   "cell_type": "code",
   "execution_count": 56,
   "metadata": {},
   "outputs": [],
   "source": [
    "for regione in regioni:\n",
    "    regione=regione.lower().replace(' ','_')\n",
    "    df_churn=df_churn.drop(columns=[regione])"
   ]
  },
  {
   "cell_type": "code",
   "execution_count": 58,
   "metadata": {},
   "outputs": [],
   "source": [
    "df_churn=df_churn.drop(columns=['churn'])"
   ]
  },
  {
   "cell_type": "code",
   "execution_count": 60,
   "metadata": {},
   "outputs": [],
   "source": [
    "df_churn=df_churn.drop(columns=['regione'])"
   ]
  },
  {
   "cell_type": "code",
   "execution_count": 77,
   "metadata": {},
   "outputs": [],
   "source": [
    "train_data=df_churn.sample(frac=0.8,random_state=200)\n",
    "test_data = df_churn.drop(train_data.index)"
   ]
  },
  {
   "cell_type": "markdown",
   "metadata": {},
   "source": [
    "## Primo Esperimento\n",
    "Uso Auopilot, una nuova funzionalità di Sagemaker, che ha in se la parte di ingegnerizzazione delle features e usa XGBoost come algoritmo.\n"
   ]
  },
  {
   "cell_type": "markdown",
   "metadata": {},
   "source": [
    "Duplico il dataset per arrivare fino a 1000 elementi (minimo per usare Autopilot), aumentando il numero di casi positivi rispetto al totale.\n",
    "Il training set è molto sbilanciato."
   ]
  },
  {
   "cell_type": "code",
   "execution_count": 63,
   "metadata": {},
   "outputs": [
    {
     "data": {
      "text/plain": [
       "nazione_nascita                     10000\n",
       "rating_creditizio                   10000\n",
       "retention_value                      1261\n",
       "comune_residenza                    10000\n",
       "cognome                             10000\n",
       "eta_cliente                         10000\n",
       "vas                                  1073\n",
       "canale_contatto_preferenziale        3755\n",
       "titolo_di_studio                    10000\n",
       "tipologia_cliente                   10000\n",
       "data_iscrizione_sportello_online     2018\n",
       "nome                                10000\n",
       "count                               10000\n",
       "debito_medio                        10000\n",
       "data_attivazione_fornitura          10000\n",
       "media_gas                            5543\n",
       "media_ele                            7797\n",
       "canale_di_vendita                   10000\n",
       "consenso                            10000\n",
       "puglia_lbl                          10000\n",
       "piemonte_lbl                        10000\n",
       "sardegna_lbl                        10000\n",
       "calabria_lbl                        10000\n",
       "veneto_lbl                          10000\n",
       "lazio_lbl                           10000\n",
       "umbria_lbl                          10000\n",
       "toscana_lbl                         10000\n",
       "lombardia_lbl                       10000\n",
       "emilia_romagna_lbl                  10000\n",
       "campania_lbl                        10000\n",
       "friuli_venezia_giulia_lbl           10000\n",
       "sicilia_lbl                         10000\n",
       "liguria_lbl                         10000\n",
       "valle_d_aosta_lbl                   10000\n",
       "basilicata_lbl                      10000\n",
       "trentino_alto_adige_lbl             10000\n",
       "molise_lbl                          10000\n",
       "abruzzo_lbl                         10000\n",
       "marche_lbl                          10000\n",
       "churn_tgt                           10000\n",
       "dtype: int64"
      ]
     },
     "execution_count": 63,
     "metadata": {},
     "output_type": "execute_result"
    }
   ],
   "source": [
    "train_data.count()"
   ]
  },
  {
   "cell_type": "markdown",
   "metadata": {},
   "source": [
    "## Use Sagemaker Autopilot to train the model\n",
    "\n",
    "After uploading the dataset to Amazon S3, you can invoke Autopilot to find the best ML pipeline to train a model on this dataset.\n",
    "\n",
    "The required inputs for invoking a Autopilot job are:\n",
    "\n",
    "* Amazon S3 location for input dataset and for all output artifacts\n",
    "* Name of the column of the dataset you want to predict (esito_inattesp_tampone_successivo in this case)\n",
    "* An IAM role \n",
    "\n",
    "Currently Autopilot supports only tabular datasets in CSV format. Either all files should have a header row, or the first file of the dataset, when sorted in alphabetical/lexical order by name, is expected to have a header row."
   ]
  },
  {
   "cell_type": "code",
   "execution_count": 64,
   "metadata": {},
   "outputs": [
    {
     "name": "stdout",
     "output_type": "stream",
     "text": [
      "Train data uploaded to: s3://sagemaker-eu-west-1-694275606777/AnalisiChurn/train/train_data.csv\n"
     ]
    }
   ],
   "source": [
    "train_file = 'train_data.csv';\n",
    "train_data.to_csv(train_file, index=False, header=True)\n",
    "train_data_s3_path = sagemaker_session.upload_data(path=train_file, key_prefix=prefix + \"/train\")\n",
    "print('Train data uploaded to: ' + train_data_s3_path)\n"
   ]
  },
  {
   "cell_type": "code",
   "execution_count": 65,
   "metadata": {},
   "outputs": [],
   "source": [
    "input_data_config = [{\n",
    "      'DataSource': {\n",
    "        'S3DataSource': {\n",
    "          'S3DataType': 'S3Prefix',\n",
    "          'S3Uri': 's3://{}/{}/train'.format(s3_bucket_name,prefix)\n",
    "        }\n",
    "      },\n",
    "      'TargetAttributeName': 'churn_tgt'\n",
    "    }\n",
    "  ]\n",
    "\n",
    "output_data_config = {\n",
    "    'S3OutputPath': 's3://{}/{}/output'.format(s3_bucket_name,prefix)\n",
    "  }"
   ]
  },
  {
   "cell_type": "markdown",
   "metadata": {},
   "source": [
    "\n",
    "You can also specify the type of problem you want to solve with your dataset (Regression, MulticlassClassification, BinaryClassification). In case you are not sure, SageMaker Autopilot will infer the problem type based on statistics of the target column (the column you want to predict).\n",
    "\n",
    "Because the target attribute, Churn?, is binary, our model will be performing binary prediction, also known as binary classification. In this example we will let AutoPilot infer the type of problem for us.\n",
    "\n",
    "You have the option to limit the running time of a SageMaker Autopilot job by providing either the maximum number of pipeline evaluations or candidates (one pipeline evaluation is called a Candidate because it generates a candidate model) or providing the total time allocated for the overall Autopilot job. Under default settings, this job takes about four hours to run. This varies between runs because of the nature of the exploratory process Autopilot uses to find optimal training parameters."
   ]
  },
  {
   "cell_type": "markdown",
   "metadata": {},
   "source": [
    "## Launching the SageMaker Autopilot Job\n",
    "You can now launch the Autopilot job by calling the create_auto_ml_job API. We limit the number of candidates to 20 so that the job finishes in a few minutes.\n",
    "\n"
   ]
  },
  {
   "cell_type": "code",
   "execution_count": 72,
   "metadata": {},
   "outputs": [
    {
     "name": "stdout",
     "output_type": "stream",
     "text": [
      "AutoMLJobName: automl-churn-23-16-47-57\n"
     ]
    },
    {
     "data": {
      "text/plain": [
       "{'AutoMLJobArn': 'arn:aws:sagemaker:eu-west-1:694275606777:automl-job/automl-churn-23-16-47-57',\n",
       " 'ResponseMetadata': {'RequestId': 'ce47bcb5-7eb3-4985-ad48-98cbbf2dbe49',\n",
       "  'HTTPStatusCode': 200,\n",
       "  'HTTPHeaders': {'x-amzn-requestid': 'ce47bcb5-7eb3-4985-ad48-98cbbf2dbe49',\n",
       "   'content-type': 'application/x-amz-json-1.1',\n",
       "   'content-length': '95',\n",
       "   'date': 'Fri, 23 Oct 2020 16:47:58 GMT'},\n",
       "  'RetryAttempts': 0}}"
      ]
     },
     "execution_count": 72,
     "metadata": {},
     "output_type": "execute_result"
    }
   ],
   "source": [
    "import boto3 \n",
    "\n",
    "from time import gmtime, strftime, sleep\n",
    "timestamp_suffix = strftime('%d-%H-%M-%S', gmtime())\n",
    "\n",
    "sm = boto3.Session().client(service_name='sagemaker',region_name='eu-west-1')\n",
    "\n",
    "auto_ml_job_name = 'automl-churn-' + timestamp_suffix\n",
    "print('AutoMLJobName: ' + auto_ml_job_name)\n",
    "\n",
    "sm.create_auto_ml_job(AutoMLJobName=auto_ml_job_name,\n",
    "                      InputDataConfig=input_data_config,\n",
    "                      OutputDataConfig=output_data_config,\n",
    "                      AutoMLJobConfig={'CompletionCriteria':\n",
    "                                       {'MaxCandidates': 20}\n",
    "                                      },\n",
    "                      RoleArn=role)"
   ]
  },
  {
   "cell_type": "markdown",
   "metadata": {},
   "source": [
    "\n",
    "## Tracking SageMaker Autopilot job progress¶\n",
    "SageMaker Autopilot job consists of the following high-level steps :\n",
    "\n",
    "* Analyzing Data, where the dataset is analyzed and Autopilot comes up with a list of ML pipelines that should be tried out on the dataset. The dataset is also split into train and validation sets.\n",
    "* Feature Engineering, where Autopilot performs feature transformation on individual features of the dataset as well as at an aggregate level.\n",
    "* Model Tuning, where the top performing pipeline is selected along with the optimal hyperparameters for the training algorithm (the last stage of the pipeline)."
   ]
  },
  {
   "cell_type": "code",
   "execution_count": 73,
   "metadata": {},
   "outputs": [
    {
     "name": "stdout",
     "output_type": "stream",
     "text": [
      "JobStatus - Secondary Status\n",
      "------------------------------\n",
      "InProgress - AnalyzingData\n",
      "InProgress - AnalyzingData\n",
      "InProgress - AnalyzingData\n",
      "InProgress - AnalyzingData\n",
      "InProgress - AnalyzingData\n",
      "InProgress - AnalyzingData\n",
      "InProgress - AnalyzingData\n",
      "InProgress - AnalyzingData\n",
      "InProgress - AnalyzingData\n",
      "InProgress - AnalyzingData\n",
      "InProgress - AnalyzingData\n",
      "InProgress - AnalyzingData\n",
      "InProgress - AnalyzingData\n",
      "InProgress - AnalyzingData\n",
      "InProgress - AnalyzingData\n",
      "InProgress - AnalyzingData\n",
      "InProgress - FeatureEngineering\n",
      "InProgress - FeatureEngineering\n",
      "InProgress - FeatureEngineering\n",
      "InProgress - FeatureEngineering\n",
      "InProgress - FeatureEngineering\n",
      "InProgress - FeatureEngineering\n",
      "InProgress - FeatureEngineering\n",
      "InProgress - FeatureEngineering\n",
      "InProgress - FeatureEngineering\n",
      "InProgress - FeatureEngineering\n",
      "InProgress - FeatureEngineering\n",
      "InProgress - FeatureEngineering\n",
      "InProgress - FeatureEngineering\n",
      "InProgress - FeatureEngineering\n",
      "InProgress - FeatureEngineering\n",
      "InProgress - FeatureEngineering\n",
      "InProgress - FeatureEngineering\n",
      "InProgress - FeatureEngineering\n",
      "InProgress - ModelTuning\n",
      "InProgress - ModelTuning\n",
      "InProgress - ModelTuning\n",
      "InProgress - ModelTuning\n",
      "InProgress - ModelTuning\n",
      "InProgress - ModelTuning\n",
      "InProgress - ModelTuning\n",
      "InProgress - ModelTuning\n",
      "InProgress - ModelTuning\n",
      "InProgress - ModelTuning\n",
      "InProgress - ModelTuning\n",
      "InProgress - ModelTuning\n",
      "InProgress - ModelTuning\n",
      "Completed - MaxCandidatesReached\n"
     ]
    }
   ],
   "source": [
    "print ('JobStatus - Secondary Status')\n",
    "print('------------------------------')\n",
    "\n",
    "\n",
    "describe_response = sm.describe_auto_ml_job(AutoMLJobName=auto_ml_job_name)\n",
    "print (describe_response['AutoMLJobStatus'] + \" - \" + describe_response['AutoMLJobSecondaryStatus'])\n",
    "job_run_status = describe_response['AutoMLJobStatus']\n",
    "    \n",
    "while job_run_status not in ('Failed', 'Completed', 'Stopped'):\n",
    "    describe_response = sm.describe_auto_ml_job(AutoMLJobName=auto_ml_job_name)\n",
    "    job_run_status = describe_response['AutoMLJobStatus']\n",
    "    \n",
    "    print (describe_response['AutoMLJobStatus'] + \" - \" + describe_response['AutoMLJobSecondaryStatus'])\n",
    "    sleep(30)"
   ]
  },
  {
   "cell_type": "markdown",
   "metadata": {},
   "source": [
    "## Results\n",
    "Now use the describe_auto_ml_job API to look up the best candidate selected by the SageMaker Autopilot job.\n"
   ]
  },
  {
   "cell_type": "code",
   "execution_count": 74,
   "metadata": {},
   "outputs": [
    {
     "name": "stdout",
     "output_type": "stream",
     "text": [
      "{'CandidateName': 'tuning-job-1-595d6096e1be43a2a2-015-94373110', 'FinalAutoMLJobObjectiveMetric': {'MetricName': 'validation:f1', 'Value': 0.9852499961853027}, 'ObjectiveStatus': 'Succeeded', 'CandidateSteps': [{'CandidateStepType': 'AWS::SageMaker::ProcessingJob', 'CandidateStepArn': 'arn:aws:sagemaker:eu-west-1:694275606777:processing-job/db-1-82c14c75e1644eecbbf4ee60fbf2c79d1e5a8361273e428781e5a84ecd', 'CandidateStepName': 'db-1-82c14c75e1644eecbbf4ee60fbf2c79d1e5a8361273e428781e5a84ecd'}, {'CandidateStepType': 'AWS::SageMaker::TrainingJob', 'CandidateStepArn': 'arn:aws:sagemaker:eu-west-1:694275606777:training-job/automl-chu-dpp7-1-fac214d5915a4bf687b26a7906cb33227ff74a4a9a7d4', 'CandidateStepName': 'automl-chu-dpp7-1-fac214d5915a4bf687b26a7906cb33227ff74a4a9a7d4'}, {'CandidateStepType': 'AWS::SageMaker::TransformJob', 'CandidateStepArn': 'arn:aws:sagemaker:eu-west-1:694275606777:transform-job/automl-chu-dpp7-rpb-1-8677bb68fcd4471288753520a45cd9129b5ba92b8', 'CandidateStepName': 'automl-chu-dpp7-rpb-1-8677bb68fcd4471288753520a45cd9129b5ba92b8'}, {'CandidateStepType': 'AWS::SageMaker::TrainingJob', 'CandidateStepArn': 'arn:aws:sagemaker:eu-west-1:694275606777:training-job/tuning-job-1-595d6096e1be43a2a2-015-94373110', 'CandidateStepName': 'tuning-job-1-595d6096e1be43a2a2-015-94373110'}], 'CandidateStatus': 'Completed', 'InferenceContainers': [{'Image': '141502667606.dkr.ecr.eu-west-1.amazonaws.com/sagemaker-sklearn-automl:0.2-1-cpu-py3', 'ModelDataUrl': 's3://sagemaker-eu-west-1-694275606777/AnalisiChurn/output/automl-churn-23-16-47-57/data-processor-models/automl-chu-dpp7-1-fac214d5915a4bf687b26a7906cb33227ff74a4a9a7d4/output/model.tar.gz', 'Environment': {'AUTOML_SPARSE_ENCODE_RECORDIO_PROTOBUF': '1', 'AUTOML_TRANSFORM_MODE': 'feature-transform', 'SAGEMAKER_DEFAULT_INVOCATIONS_ACCEPT': 'application/x-recordio-protobuf', 'SAGEMAKER_PROGRAM': 'sagemaker_serve', 'SAGEMAKER_SUBMIT_DIRECTORY': '/opt/ml/model/code'}}, {'Image': '141502667606.dkr.ecr.eu-west-1.amazonaws.com/sagemaker-xgboost:1.0-1-cpu-py3', 'ModelDataUrl': 's3://sagemaker-eu-west-1-694275606777/AnalisiChurn/output/automl-churn-23-16-47-57/tuning/automl-chu-dpp7-xgb/tuning-job-1-595d6096e1be43a2a2-015-94373110/output/model.tar.gz', 'Environment': {'MAX_CONTENT_LENGTH': '20971520', 'SAGEMAKER_DEFAULT_INVOCATIONS_ACCEPT': 'text/csv', 'SAGEMAKER_INFERENCE_OUTPUT': 'predicted_label', 'SAGEMAKER_INFERENCE_SUPPORTED': 'predicted_label,probability,probabilities'}}, {'Image': '141502667606.dkr.ecr.eu-west-1.amazonaws.com/sagemaker-sklearn-automl:0.2-1-cpu-py3', 'ModelDataUrl': 's3://sagemaker-eu-west-1-694275606777/AnalisiChurn/output/automl-churn-23-16-47-57/data-processor-models/automl-chu-dpp7-1-fac214d5915a4bf687b26a7906cb33227ff74a4a9a7d4/output/model.tar.gz', 'Environment': {'AUTOML_TRANSFORM_MODE': 'inverse-label-transform', 'SAGEMAKER_DEFAULT_INVOCATIONS_ACCEPT': 'text/csv', 'SAGEMAKER_INFERENCE_INPUT': 'predicted_label', 'SAGEMAKER_INFERENCE_OUTPUT': 'predicted_label', 'SAGEMAKER_INFERENCE_SUPPORTED': 'predicted_label,probability,labels,probabilities', 'SAGEMAKER_PROGRAM': 'sagemaker_serve', 'SAGEMAKER_SUBMIT_DIRECTORY': '/opt/ml/model/code'}}], 'CreationTime': datetime.datetime(2020, 10, 23, 17, 8, 43, tzinfo=tzlocal()), 'EndTime': datetime.datetime(2020, 10, 23, 17, 9, 35, tzinfo=tzlocal()), 'LastModifiedTime': datetime.datetime(2020, 10, 23, 17, 11, 3, 288000, tzinfo=tzlocal())}\n",
      "\n",
      "\n",
      "CandidateName: tuning-job-1-595d6096e1be43a2a2-015-94373110\n",
      "FinalAutoMLJobObjectiveMetricName: validation:f1\n",
      "FinalAutoMLJobObjectiveMetricValue: 0.9852499961853027\n"
     ]
    }
   ],
   "source": [
    "best_candidate = sm.describe_auto_ml_job(AutoMLJobName=auto_ml_job_name)['BestCandidate']\n",
    "best_candidate_name = best_candidate['CandidateName']\n",
    "print(best_candidate)\n",
    "print('\\n')\n",
    "print(\"CandidateName: \" + best_candidate_name)\n",
    "print(\"FinalAutoMLJobObjectiveMetricName: \" + best_candidate['FinalAutoMLJobObjectiveMetric']['MetricName'])\n",
    "print(\"FinalAutoMLJobObjectiveMetricValue: \" + str(best_candidate['FinalAutoMLJobObjectiveMetric']['Value']))"
   ]
  },
  {
   "cell_type": "markdown",
   "metadata": {},
   "source": [
    "## Host\n",
    "Now that we've trained the algorithm, let's create a model and deploy it to a hosted endpoint."
   ]
  },
  {
   "cell_type": "code",
   "execution_count": 75,
   "metadata": {},
   "outputs": [],
   "source": [
    "timestamp_suffix = strftime('%d-%H-%M-%S', gmtime())\n",
    "model_name = best_candidate_name + timestamp_suffix + \"-model\"\n",
    "model_arn = sm.create_model(Containers=best_candidate['InferenceContainers'],\n",
    "                            ModelName=model_name,\n",
    "                            ExecutionRoleArn=role)\n",
    "\n",
    "epc_name = best_candidate_name + timestamp_suffix + \"-epc\"\n",
    "ep_config = sm.create_endpoint_config(EndpointConfigName = epc_name,\n",
    "                                      ProductionVariants=[{'InstanceType': 'ml.m5.xlarge',\n",
    "                                                           'InitialInstanceCount': 1,\n",
    "                                                           'ModelName': model_name,\n",
    "                                                           'VariantName': 'main'}])\n",
    "\n",
    "ep_name = best_candidate_name + timestamp_suffix + \"-ep\"\n",
    "create_endpoint_response = sm.create_endpoint(EndpointName=ep_name,\n",
    "                                              EndpointConfigName=epc_name)"
   ]
  },
  {
   "cell_type": "code",
   "execution_count": 76,
   "metadata": {},
   "outputs": [],
   "source": [
    "sm.get_waiter('endpoint_in_service').wait(EndpointName=ep_name)"
   ]
  },
  {
   "cell_type": "markdown",
   "metadata": {},
   "source": [
    "\n",
    "## Evaluate\n",
    "Now that we have a hosted endpoint running, we can make real-time predictions from our model very easily, simply by making an http POST request. But first, we'll need to setup serializers and deserializers for passing our test_data NumPy arrays to the model behind the endpoint."
   ]
  },
  {
   "cell_type": "code",
   "execution_count": 79,
   "metadata": {},
   "outputs": [
    {
     "name": "stdout",
     "output_type": "stream",
     "text": [
      "Accuracy: 0.994\n"
     ]
    }
   ],
   "source": [
    "\n",
    "from io import StringIO\n",
    "from sagemaker.predictor import RealTimePredictor\n",
    "from sagemaker.content_types import CONTENT_TYPE_CSV\n",
    "\n",
    "\n",
    "predictor = RealTimePredictor(\n",
    "    endpoint=ep_name,\n",
    "    sagemaker_session=sagemaker_session,\n",
    "    content_type=CONTENT_TYPE_CSV,\n",
    "    accept=CONTENT_TYPE_CSV)\n",
    "\n",
    "# Remove the target column from the test data\n",
    "test_data_inference = test_data.drop(columns=['churn_tgt'])\n",
    "\n",
    "# Obtain predictions from SageMaker endpoint\n",
    "prediction = predictor.predict(test_data_inference.to_csv(sep=',', header=False, index=False)).decode('utf-8')\n",
    "\n",
    "# Load prediction in pandas and compare to ground truth\n",
    "prediction_df = pd.read_csv(StringIO(prediction), header=None)\n",
    "accuracy = (test_data.reset_index()['churn_tgt'] == prediction_df[0]).sum() / len(test_data_inference)\n",
    "print('Accuracy: {}'.format(accuracy))"
   ]
  },
  {
   "cell_type": "code",
   "execution_count": 81,
   "metadata": {},
   "outputs": [
    {
     "data": {
      "image/png": "[encoded data removed]",
      "text/plain": [
       "<Figure size 432x288 with 2 Axes>"
      ]
     },
     "metadata": {
      "needs_background": "light"
     },
     "output_type": "display_data"
    },
    {
     "name": "stdout",
     "output_type": "stream",
     "text": [
      "[[1430    3]\n",
      " [   9  558]]\n"
     ]
    }
   ],
   "source": [
    "%matplotlib inline\n",
    "import matplotlib.pyplot as plt\n",
    "import seaborn as sn\n",
    "from  sklearn.metrics import confusion_matrix\n",
    "\n",
    "cm=confusion_matrix( test_data.churn_tgt, prediction_df[0])\n",
    "sn.heatmap(cm)\n",
    "plt.show()\n",
    "print (cm)"
   ]
  },
  {
   "cell_type": "code",
   "execution_count": 82,
   "metadata": {},
   "outputs": [
    {
     "name": "stdout",
     "output_type": "stream",
     "text": [
      "Accuracy: 0.995125\n"
     ]
    }
   ],
   "source": [
    "# Remove the target column from the test data\n",
    "test_data_inference = train_data.drop(columns=['churn_tgt'])\n",
    "\n",
    "# Obtain predictions from SageMaker endpoint\n",
    "prediction = predictor.predict(test_data_inference.to_csv(sep=',', header=False, index=False)).decode('utf-8')\n",
    "\n",
    "# Load prediction in pandas and compare to ground truth\n",
    "prediction_df = pd.read_csv(StringIO(prediction), header=None)\n",
    "accuracy = (train_data.reset_index()['churn_tgt'] == prediction_df[0]).sum() / len(test_data_inference)\n",
    "print('Accuracy: {}'.format(accuracy))"
   ]
  },
  {
   "cell_type": "code",
   "execution_count": 84,
   "metadata": {},
   "outputs": [
    {
     "data": {
      "image/png": "[encoded data removed]",
      "text/plain": [
       "<Figure size 432x288 with 2 Axes>"
      ]
     },
     "metadata": {
      "needs_background": "light"
     },
     "output_type": "display_data"
    },
    {
     "name": "stdout",
     "output_type": "stream",
     "text": [
      "[[5690   15]\n",
      " [  24 2271]]\n"
     ]
    }
   ],
   "source": [
    "%matplotlib inline\n",
    "import matplotlib.pyplot as plt\n",
    "import seaborn as sn\n",
    "from  sklearn.metrics import confusion_matrix\n",
    "\n",
    "cm=confusion_matrix( train_data.churn_tgt, prediction_df[0])\n",
    "sn.heatmap(cm)\n",
    "plt.show()\n",
    "print (cm)"
   ]
  },
  {
   "cell_type": "markdown",
   "metadata": {},
   "source": [
    "## Cleanup\n",
    "The Autopilot job creates many underlying artifacts such as dataset splits, preprocessing scripts, or preprocessed data, etc. This code, when un-commented, deletes them. This operation deletes all the generated models and the auto-generated notebooks as well."
   ]
  },
  {
   "cell_type": "code",
   "execution_count": null,
   "metadata": {},
   "outputs": [],
   "source": [
    "#s3 = boto3.resource('s3')\n",
    "#s3_bucket = s3.Bucket(bucket)\n",
    "\n",
    "#job_outputs_prefix = '{}/output/{}'.format(prefix, auto_ml_job_name)\n",
    "#s3_bucket.objects.filter(Prefix=job_outputs_prefix).delete()"
   ]
  },
  {
   "cell_type": "code",
   "execution_count": 85,
   "metadata": {},
   "outputs": [
    {
     "data": {
      "text/plain": [
       "{'ResponseMetadata': {'RequestId': 'd03b69dd-862f-4166-92a9-44bcb7717cce',\n",
       "  'HTTPStatusCode': 200,\n",
       "  'HTTPHeaders': {'x-amzn-requestid': 'd03b69dd-862f-4166-92a9-44bcb7717cce',\n",
       "   'content-type': 'application/x-amz-json-1.1',\n",
       "   'content-length': '0',\n",
       "   'date': 'Fri, 23 Oct 2020 17:22:05 GMT'},\n",
       "  'RetryAttempts': 0}}"
      ]
     },
     "execution_count": 85,
     "metadata": {},
     "output_type": "execute_result"
    }
   ],
   "source": [
    "sm.delete_endpoint(EndpointName=ep_name)\n",
    "sm.delete_endpoint_config(EndpointConfigName=epc_name)\n",
    "sm.delete_model(ModelName=model_name)"
   ]
  },
  {
   "cell_type": "code",
   "execution_count": null,
   "metadata": {},
   "outputs": [],
   "source": []
  }
 ],
 "metadata": {
  "instance_type": "ml.t3.medium",
  "kernelspec": {
   "display_name": "conda_python3",
   "language": "python",
   "name": "conda_python3"
  },
  "language_info": {
   "codemirror_mode": {
    "name": "ipython",
    "version": 3
   },
   "file_extension": ".py",
   "mimetype": "text/x-python",
   "name": "python",
   "nbconvert_exporter": "python",
   "pygments_lexer": "ipython3",
   "version": "3.6.10"
  }
 },
 "nbformat": 4,
 "nbformat_minor": 4
}
