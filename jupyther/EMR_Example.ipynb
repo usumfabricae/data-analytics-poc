{
 "cells": [
  {
   "cell_type": "code",
   "execution_count": 1,
   "metadata": {},
   "outputs": [
    {
     "data": {
      "application/vnd.jupyter.widget-view+json": {
       "model_id": "c526af46aea446b4b1fb4dfd10f6f4dc",
       "version_major": 2,
       "version_minor": 0
      },
      "text/plain": [
       "VBox()"
      ]
     },
     "metadata": {},
     "output_type": "display_data"
    },
    {
     "name": "stdout",
     "output_type": "stream",
     "text": [
      "Starting Spark application\n"
     ]
    },
    {
     "data": {
      "text/html": [
       "<table>\n",
       "<tr><th>ID</th><th>YARN Application ID</th><th>Kind</th><th>State</th><th>Spark UI</th><th>Driver log</th><th>Current session?</th></tr><tr><td>1</td><td>application_1603267417159_0002</td><td>pyspark</td><td>idle</td><td><a target=\"_blank\" href=\"http://ip-172-31-45-50.eu-west-1.compute.internal:20888/proxy/application_1603267417159_0002/\">Link</a></td><td><a target=\"_blank\" href=\"http://ip-172-31-36-27.eu-west-1.compute.internal:8042/node/containerlogs/container_1603267417159_0002_01_000001/livy\">Link</a></td><td>✔</td></tr></table>"
      ],
      "text/plain": [
       "<IPython.core.display.HTML object>"
      ]
     },
     "metadata": {},
     "output_type": "display_data"
    },
    {
     "data": {
      "application/vnd.jupyter.widget-view+json": {
       "model_id": "",
       "version_major": 2,
       "version_minor": 0
      },
      "text/plain": [
       "FloatProgress(value=0.0, bar_style='info', description='Progress:', layout=Layout(height='25px', width='50%'),…"
      ]
     },
     "metadata": {},
     "output_type": "display_data"
    },
    {
     "name": "stdout",
     "output_type": "stream",
     "text": [
      "SparkSession available as 'spark'.\n"
     ]
    },
    {
     "data": {
      "application/vnd.jupyter.widget-view+json": {
       "model_id": "",
       "version_major": 2,
       "version_minor": 0
      },
      "text/plain": [
       "FloatProgress(value=0.0, bar_style='info', description='Progress:', layout=Layout(height='25px', width='50%'),…"
      ]
     },
     "metadata": {},
     "output_type": "display_data"
    }
   ],
   "source": [
    "from pyspark.context import SparkContext\n",
    "import pyspark.sql.functions as F\n",
    "import time\n",
    "from pyspark.sql import Window\n",
    "\n"
   ]
  },
  {
   "cell_type": "code",
   "execution_count": 8,
   "metadata": {},
   "outputs": [
    {
     "data": {
      "application/vnd.jupyter.widget-view+json": {
       "model_id": "355e24b0795c496eb0ab195429d41cad",
       "version_major": 2,
       "version_minor": 0
      },
      "text/plain": [
       "VBox()"
      ]
     },
     "metadata": {},
     "output_type": "display_data"
    },
    {
     "data": {
      "application/vnd.jupyter.widget-view+json": {
       "model_id": "",
       "version_major": 2,
       "version_minor": 0
      },
      "text/plain": [
       "FloatProgress(value=0.0, bar_style='info', description='Progress:', layout=Layout(height='25px', width='50%'),…"
      ]
     },
     "metadata": {},
     "output_type": "display_data"
    },
    {
     "name": "stdout",
     "output_type": "stream",
     "text": [
      "DataFrame[]"
     ]
    }
   ],
   "source": [
    "spark.sql(\"use cdc\")"
   ]
  },
  {
   "cell_type": "code",
   "execution_count": 9,
   "metadata": {},
   "outputs": [
    {
     "data": {
      "application/vnd.jupyter.widget-view+json": {
       "model_id": "c51c3fc9d6fe495284a4b4b22c5c7479",
       "version_major": 2,
       "version_minor": 0
      },
      "text/plain": [
       "VBox()"
      ]
     },
     "metadata": {},
     "output_type": "display_data"
    },
    {
     "data": {
      "application/vnd.jupyter.widget-view+json": {
       "model_id": "",
       "version_major": 2,
       "version_minor": 0
      },
      "text/plain": [
       "FloatProgress(value=0.0, bar_style='info', description='Progress:', layout=Layout(height='25px', width='50%'),…"
      ]
     },
     "metadata": {},
     "output_type": "display_data"
    },
    {
     "name": "stdout",
     "output_type": "stream",
     "text": [
      "+--------+------------------+-----------+\n",
      "|database|         tableName|isTemporary|\n",
      "+--------+------------------+-----------+\n",
      "|     cdc|         contratti|      false|\n",
      "|     cdc|           credito|      false|\n",
      "|     cdc|          prodotti|      false|\n",
      "|     cdc|punti_di_fornitura|      false|\n",
      "|     cdc|          soggetti|      false|\n",
      "+--------+------------------+-----------+"
     ]
    }
   ],
   "source": [
    "spark.sql(\"show tables\").show()"
   ]
  },
  {
   "cell_type": "code",
   "execution_count": 10,
   "metadata": {},
   "outputs": [
    {
     "data": {
      "application/vnd.jupyter.widget-view+json": {
       "model_id": "5cacb6afc31b450abd0f458a2b64f60b",
       "version_major": 2,
       "version_minor": 0
      },
      "text/plain": [
       "VBox()"
      ]
     },
     "metadata": {},
     "output_type": "display_data"
    },
    {
     "data": {
      "application/vnd.jupyter.widget-view+json": {
       "model_id": "",
       "version_major": 2,
       "version_minor": 0
      },
      "text/plain": [
       "FloatProgress(value=0.0, bar_style='info', description='Progress:', layout=Layout(height='25px', width='50%'),…"
      ]
     },
     "metadata": {},
     "output_type": "display_data"
    },
    {
     "name": "stdout",
     "output_type": "stream",
     "text": [
      "+--------+\n",
      "|count(1)|\n",
      "+--------+\n",
      "|42728655|\n",
      "+--------+"
     ]
    }
   ],
   "source": [
    "spark.sql(\"select count(*) from contratti\").show()"
   ]
  },
  {
   "cell_type": "code",
   "execution_count": 11,
   "metadata": {},
   "outputs": [
    {
     "data": {
      "application/vnd.jupyter.widget-view+json": {
       "model_id": "1c4200c838ed4627a5d888981b9a8112",
       "version_major": 2,
       "version_minor": 0
      },
      "text/plain": [
       "VBox()"
      ]
     },
     "metadata": {},
     "output_type": "display_data"
    },
    {
     "data": {
      "application/vnd.jupyter.widget-view+json": {
       "model_id": "",
       "version_major": 2,
       "version_minor": 0
      },
      "text/plain": [
       "FloatProgress(value=0.0, bar_style='info', description='Progress:', layout=Layout(height='25px', width='50%'),…"
      ]
     },
     "metadata": {},
     "output_type": "display_data"
    }
   ],
   "source": [
    "sqlContext = HiveContext(sc)"
   ]
  },
  {
   "cell_type": "code",
   "execution_count": 12,
   "metadata": {},
   "outputs": [
    {
     "data": {
      "application/vnd.jupyter.widget-view+json": {
       "model_id": "23ea6ba5bffa41008eb4add678f9f757",
       "version_major": 2,
       "version_minor": 0
      },
      "text/plain": [
       "VBox()"
      ]
     },
     "metadata": {},
     "output_type": "display_data"
    },
    {
     "data": {
      "application/vnd.jupyter.widget-view+json": {
       "model_id": "",
       "version_major": 2,
       "version_minor": 0
      },
      "text/plain": [
       "FloatProgress(value=0.0, bar_style='info', description='Progress:', layout=Layout(height='25px', width='50%'),…"
      ]
     },
     "metadata": {},
     "output_type": "display_data"
    }
   ],
   "source": [
    "df_soggetti=sqlContext.table(\"datalake.l_orcl_admin_soggetti\")"
   ]
  },
  {
   "cell_type": "code",
   "execution_count": 13,
   "metadata": {},
   "outputs": [
    {
     "data": {
      "application/vnd.jupyter.widget-view+json": {
       "model_id": "41ed40e998534c4aa37fbb68f25b54cc",
       "version_major": 2,
       "version_minor": 0
      },
      "text/plain": [
       "VBox()"
      ]
     },
     "metadata": {},
     "output_type": "display_data"
    },
    {
     "data": {
      "application/vnd.jupyter.widget-view+json": {
       "model_id": "",
       "version_major": 2,
       "version_minor": 0
      },
      "text/plain": [
       "FloatProgress(value=0.0, bar_style='info', description='Progress:', layout=Layout(height='25px', width='50%'),…"
      ]
     },
     "metadata": {},
     "output_type": "display_data"
    },
    {
     "name": "stdout",
     "output_type": "stream",
     "text": [
      "root\n",
      " |-- nazione_nascita: string (nullable = true)\n",
      " |-- rating_creditizio: string (nullable = true)\n",
      " |-- retention_value: string (nullable = true)\n",
      " |-- comune_residenza: string (nullable = true)\n",
      " |-- cognome: string (nullable = true)\n",
      " |-- eta_cliente: decimal(10,0) (nullable = true)\n",
      " |-- vas: string (nullable = true)\n",
      " |-- canale_contatto_preferenziale: string (nullable = true)\n",
      " |-- titolo_di_studio: string (nullable = true)\n",
      " |-- tipologia_cliente: string (nullable = true)\n",
      " |-- data_iscrizione_sportello_online: timestamp (nullable = true)\n",
      " |-- key_soggetti: decimal(10,0) (nullable = true)\n",
      " |-- nome: string (nullable = true)"
     ]
    }
   ],
   "source": [
    "df_soggetti.printSchema()"
   ]
  },
  {
   "cell_type": "code",
   "execution_count": 14,
   "metadata": {},
   "outputs": [
    {
     "data": {
      "application/vnd.jupyter.widget-view+json": {
       "model_id": "6e648a25326c4514991bd0bc5dce88cc",
       "version_major": 2,
       "version_minor": 0
      },
      "text/plain": [
       "VBox()"
      ]
     },
     "metadata": {},
     "output_type": "display_data"
    },
    {
     "data": {
      "application/vnd.jupyter.widget-view+json": {
       "model_id": "",
       "version_major": 2,
       "version_minor": 0
      },
      "text/plain": [
       "FloatProgress(value=0.0, bar_style='info', description='Progress:', layout=Layout(height='25px', width='50%'),…"
      ]
     },
     "metadata": {},
     "output_type": "display_data"
    },
    {
     "name": "stdout",
     "output_type": "stream",
     "text": [
      "root\n",
      " |-- nazione_nascita: string (nullable = true)\n",
      " |-- rating_creditizio: string (nullable = true)\n",
      " |-- retention_value: string (nullable = true)\n",
      " |-- comune_residenza: string (nullable = true)\n",
      " |-- cognome: string (nullable = true)\n",
      " |-- eta_cliente: decimal(10,0) (nullable = true)\n",
      " |-- vas: string (nullable = true)\n",
      " |-- canale_contatto_preferenziale: string (nullable = true)\n",
      " |-- titolo_di_studio: string (nullable = true)\n",
      " |-- tipologia_cliente: string (nullable = true)\n",
      " |-- data_iscrizione_sportello_online: timestamp (nullable = true)\n",
      " |-- key_soggetti: decimal(10,0) (nullable = true)\n",
      " |-- nome: string (nullable = true)\n",
      " |-- rank: integer (nullable = true)"
     ]
    }
   ],
   "source": [
    "windowSpec=Window.partitionBy(df_soggetti.nome,df_soggetti.cognome).\\\n",
    "orderBy(F.col(\"key_soggetti\").desc())\n",
    "\n",
    "deduplica_soggetti=df_soggetti.withColumn(\"rank\",F.row_number().over (windowSpec)).filter (F.col(\"rank\")==1)\n",
    "\n",
    "deduplica_soggetti.printSchema()"
   ]
  },
  {
   "cell_type": "code",
   "execution_count": 15,
   "metadata": {},
   "outputs": [
    {
     "data": {
      "application/vnd.jupyter.widget-view+json": {
       "model_id": "f34576ac19b44e72980923a91a294b80",
       "version_major": 2,
       "version_minor": 0
      },
      "text/plain": [
       "VBox()"
      ]
     },
     "metadata": {},
     "output_type": "display_data"
    },
    {
     "data": {
      "application/vnd.jupyter.widget-view+json": {
       "model_id": "",
       "version_major": 2,
       "version_minor": 0
      },
      "text/plain": [
       "FloatProgress(value=0.0, bar_style='info', description='Progress:', layout=Layout(height='25px', width='50%'),…"
      ]
     },
     "metadata": {},
     "output_type": "display_data"
    },
    {
     "name": "stdout",
     "output_type": "stream",
     "text": [
      "+---------------+-----------------+---------------+--------------------+----------+-----------+----+-----------------------------+-----------------+-----------------+--------------------------------+------------+------+----+\n",
      "|nazione_nascita|rating_creditizio|retention_value|    comune_residenza|   cognome|eta_cliente| vas|canale_contatto_preferenziale| titolo_di_studio|tipologia_cliente|data_iscrizione_sportello_online|key_soggetti|  nome|rank|\n",
      "+---------------+-----------------+---------------+--------------------+----------+-----------+----+-----------------------------+-----------------+-----------------+--------------------------------+------------+------+----+\n",
      "|         Italia|                C|           null|            Bagheria| Ardizzone|         58|null|                         null|Laurea magistrale|     Residenziale|                            null|    18354582|Abelie|   1|\n",
      "|         Italia|                B|           null|              Ancona|   Augusta|         42|null|                     Telefono|Laurea magistrale|   Small Business|                            null|    12080426|Abelie|   1|\n",
      "|         Italia|                C|           null|           La Spezia|Balestreri|         43|null|                         null|Laurea magistrale|     Residenziale|                            null|    17325061|Abelie|   1|\n",
      "|         Italia|                B|           null|          Moncalieri|  Banchero|         23|null|                        Email|        Dottorato|     Residenziale|                            null|    13019060|Abelie|   1|\n",
      "|         Italia|                B|           null|               Imola|Bartolotti|         20|null|                        Email|        Dottorato|     Residenziale|                            null|    19709884|Abelie|   1|\n",
      "|         Italia|                B|           null|       Caltanissetta|  Bellante|         22|null|                     Telefono|Laurea magistrale|     Residenziale|             2019-12-02 00:00:00|    19190330|Abelie|   1|\n",
      "|         Italia|                D|           null|           Catanzaro|  Bennardo|         23|null|                         null|     Laurea breve|   Small Business|                            null|    19573859|Abelie|   1|\n",
      "|         Italia|                B|           null|             Foligno|    Bettin|         21|null|               Posta cartacea|Laurea magistrale|     Residenziale|                            null|    10237152|Abelie|   1|\n",
      "|         Italia|                B|           null|              Arezzo| Bonfiglio|         32|null|                         null|     Laurea breve|     Residenziale|                            null|    12730548|Abelie|   1|\n",
      "|         Italia|                D|           null|Casalnuovo di Napoli|     Bosio|         22|null|                         null|Laurea magistrale|   Small Business|             2016-02-20 00:00:00|    19422264|Abelie|   1|\n",
      "|       Germania|                D|         BRONZE|       Civitavecchia|     Botto|         22|null|                         null|Laurea magistrale|     Residenziale|                            null|    17589381|Abelie|   1|\n",
      "|         Italia|                B|           null|              Cesena|  Brunelli|         27|   Y|                         null|Laurea magistrale|     Residenziale|                            null|    15866532|Abelie|   1|\n",
      "|       Germania|                E|           null|            Chioggia|     Bussa|         38|   Y|                     Telefono|        Dottorato|     Residenziale|             2017-03-18 00:00:00|    15721975|Abelie|   1|\n",
      "|         Italia|                B|           null|     Reggio Calabria|   Caccese|         23|null|                         null|        Dottorato|     Residenziale|                            null|    12366400|Abelie|   1|\n",
      "|         Italia|                B|           null|              Modena|    Camino|         53|null|                         null|        Dottorato|     Residenziale|                            null|     3093028|Abelie|   1|\n",
      "|         Italia|                B|           null|           Bisceglie|Capparelli|         51|null|                         null|        Dottorato|     Residenziale|                            null|    17035610|Abelie|   1|\n",
      "|         Italia|                C|           null|            Molfetta|Cappellino|         22|null|                         null|Laurea magistrale|     Residenziale|                            null|    19228788|Abelie|   1|\n",
      "|         Italia|                B|           null| Guidonia Montecelio|   Carlino|         46|null|                         null|     Laurea breve|   Small Business|                            null|    15606636|Abelie|   1|\n",
      "|         Italia|                B|           null|              Aversa|Colantuono|         36|   Y|                         null|Laurea magistrale|     Residenziale|                            null|    17273382|Abelie|   1|\n",
      "|         Italia|                B|           null|          Moncalieri|  Cornelia|         56|   Y|                         null|     Laurea breve|     Residenziale|                            null|    11959082|Abelie|   1|\n",
      "+---------------+-----------------+---------------+--------------------+----------+-----------+----+-----------------------------+-----------------+-----------------+--------------------------------+------------+------+----+\n",
      "only showing top 20 rows"
     ]
    }
   ],
   "source": [
    "deduplica_soggetti.show()"
   ]
  }
 ],
 "metadata": {
  "kernelspec": {
   "display_name": "PySpark",
   "language": "",
   "name": "pysparkkernel"
  },
  "language_info": {
   "codemirror_mode": {
    "name": "python",
    "version": 2
   },
   "mimetype": "text/x-python",
   "name": "pyspark",
   "pygments_lexer": "python2"
  }
 },
 "nbformat": 4,
 "nbformat_minor": 4
}
