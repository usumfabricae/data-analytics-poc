{
 "cells": [
  {
   "cell_type": "markdown",
   "metadata": {},
   "source": [
    "# Glue Trasformation Job"
   ]
  },
  {
   "cell_type": "code",
   "execution_count": 1,
   "metadata": {},
   "outputs": [
    {
     "name": "stdout",
     "output_type": "stream",
     "text": [
      "Starting Spark application\n"
     ]
    },
    {
     "data": {
      "text/html": [
       "<table>\n",
       "<tr><th>ID</th><th>YARN Application ID</th><th>Kind</th><th>State</th><th>Spark UI</th><th>Driver log</th><th>Current session?</th></tr><tr><td>29</td><td>application_1602576689786_0030</td><td>pyspark</td><td>idle</td><td><a target=\"_blank\" href=\"http://ip-172-31-7-158.eu-west-1.compute.internal:20888/proxy/application_1602576689786_0030/\">Link</a></td><td><a target=\"_blank\" href=\"http://ip-172-31-10-237.eu-west-1.compute.internal:8042/node/containerlogs/container_1602576689786_0030_01_000001/livy\">Link</a></td><td>✔</td></tr></table>"
      ],
      "text/plain": [
       "<IPython.core.display.HTML object>"
      ]
     },
     "metadata": {},
     "output_type": "display_data"
    },
    {
     "data": {
      "application/vnd.jupyter.widget-view+json": {
       "model_id": "7c72cee7200744a4bfb281a117951ade",
       "version_major": 2,
       "version_minor": 0
      },
      "text/plain": [
       "FloatProgress(value=0.0, bar_style='info', description='Progress:', layout=Layout(height='25px', width='50%'),…"
      ]
     },
     "metadata": {},
     "output_type": "display_data"
    },
    {
     "name": "stdout",
     "output_type": "stream",
     "text": [
      "SparkSession available as 'spark'.\n"
     ]
    },
    {
     "data": {
      "application/vnd.jupyter.widget-view+json": {
       "model_id": "13662abea7424876b04ed329809003a0",
       "version_major": 2,
       "version_minor": 0
      },
      "text/plain": [
       "FloatProgress(value=0.0, bar_style='info', description='Progress:', layout=Layout(height='25px', width='50%'),…"
      ]
     },
     "metadata": {},
     "output_type": "display_data"
    }
   ],
   "source": [
    "import sys\n",
    "from awsglue.transforms import *\n",
    "from awsglue.utils import getResolvedOptions\n",
    "from pyspark.context import SparkContext\n",
    "from awsglue.context import GlueContext\n",
    "from awsglue.job import Job\n",
    "from awsglue.dynamicframe import DynamicFrameCollection\n",
    "from awsglue.dynamicframe import DynamicFrame\n",
    "\n",
    "import pyspark.sql.functions as F \n",
    "from  pyspark.sql import Window\n"
   ]
  },
  {
   "cell_type": "code",
   "execution_count": null,
   "metadata": {},
   "outputs": [],
   "source": []
  },
  {
   "cell_type": "code",
   "execution_count": 2,
   "metadata": {},
   "outputs": [
    {
     "data": {
      "application/vnd.jupyter.widget-view+json": {
       "model_id": "b0606c9e05da450da37c0107a90e38c0",
       "version_major": 2,
       "version_minor": 0
      },
      "text/plain": [
       "FloatProgress(value=0.0, bar_style='info', description='Progress:', layout=Layout(height='25px', width='50%'),…"
      ]
     },
     "metadata": {},
     "output_type": "display_data"
    }
   ],
   "source": [
    "glueContext = GlueContext(SparkContext.getOrCreate())\n",
    "spark = glueContext.spark_session"
   ]
  },
  {
   "cell_type": "code",
   "execution_count": 3,
   "metadata": {},
   "outputs": [
    {
     "data": {
      "application/vnd.jupyter.widget-view+json": {
       "model_id": "2581bf1096bb414bba21008e9c75869e",
       "version_major": 2,
       "version_minor": 0
      },
      "text/plain": [
       "FloatProgress(value=0.0, bar_style='info', description='Progress:', layout=Layout(height='25px', width='50%'),…"
      ]
     },
     "metadata": {},
     "output_type": "display_data"
    }
   ],
   "source": [
    "def MyTransform(glueContext, dfc) -> DynamicFrameCollection:\n",
    "    dyf_soggetti = dfc.select(\"Soggetti\")\n",
    "    dyf_contratti = dfc.select(\"Contratti\")\n",
    "    dyf_credito = dfc.select(\"Credito\")\n",
    "    dyf_prodotti = dfc.select(\"Prodotti\")\n",
    "    dyf_punti_di_fornitura = dfc.select(\"PuntiDiFornitura\")\n",
    "    \n",
    "#### Deduplica Soggetti    \n",
    "    deduplica_soggetti=dyf_soggetti.toDF()\n",
    "    windowSpec=Window.partitionBy(deduplica_soggetti.nome,deduplica_soggetti.cognome).\\\n",
    "    orderBy(F.col(\"key_soggetti\").desc())\n",
    "    deduplica_soggetti=deduplica_soggetti.withColumn(\"rank\",F.row_number().over (windowSpec)).filter (F.col(\"rank\")==1)\n",
    "        \n",
    "### Numero Contratti per soggetto\n",
    "    df_contratti_per_soggetto=dyf_contratti.toDF()\n",
    "    df_contratti_per_soggetto=df_contratti_per_soggetto.groupBy(\"key_soggetti\").count()\n",
    "    \n",
    "### Debito Medio per soggetto    \n",
    "    df_debito_medio_per_cliente=dyf_credito.toDF()   \n",
    "    df_debito_medio_per_cliente=df_debito_medio_per_cliente.withColumn(\"d_importo\", (F.col(\"importo\").\\\n",
    "            substr(F.lit(1), F.instr(F.col(\"importo\"), '€')-2)).cast('double'))\n",
    "    df_debito_medio_per_cliente=df_debito_medio_per_cliente.groupBy(\"key_soggetti\").agg (F.mean(\"d_importo\"))\n",
    "    df_debito_medio_per_cliente=df_debito_medio_per_cliente.withColumnRenamed(\"avg(d_importo)\",\"debito_medio\")\n",
    "        \n",
    "### ELE e Gas Medio, minimo anno_prima_attivazione_fornitura su contratti attivo   \n",
    "    \n",
    "    df_contratti=dyf_contratti.toDF()    \n",
    "    df_contratti=df_contratti.withColumn(\"ts_data_attivazione_fornitura\",F.to_timestamp (df_contratti.data_attivazione_fornitura)).\\\n",
    "        withColumn (\"ts_data_cessazione_fornitura\",F.to_timestamp (df_contratti.data_cessazione_fornitura)).\\\n",
    "        drop(\"key_punti_di_fornitura\",\"data_cessazione_fornitura\",\"codice_contratto\",\"key_contratti\",\n",
    "            \"canale_di_vendita\",\"anno_prima_attivazione_fornitura\")\n",
    "    \n",
    "    cd=F.current_timestamp()\n",
    "    df_contratti=df_contratti.filter (df_contratti.ts_data_cessazione_fornitura >= cd).\\\n",
    "            filter (df_contratti.ts_data_attivazione_fornitura <= cd)\n",
    "    \n",
    "    df_prodotti=dyf_prodotti.toDF()\n",
    "    df_prodotti=df_prodotti.withColumn(\"ts_data_inizio_validita\",F.to_timestamp (df_prodotti.data_inizio_validita)).\\\n",
    "        withColumn (\"ts_data_fine_validita\",F.to_timestamp (df_prodotti.data_fine_validita)).\\\n",
    "        drop ('data_inizio_validita','data_fine_validita','key_prodotti')\n",
    "    df_prodotti=df_prodotti.withColumnRenamed(\"nome_prodotto\",\"nome_commerciale\")\n",
    "    df_prodotti=df_prodotti.withColumn(\"ELE\", (df_prodotti.f0+ df_prodotti.f1+ df_prodotti.f2+ df_prodotti.f3)/4).\\\n",
    "        drop('f0','f1','f2','f3')\n",
    "    \n",
    "    df_tariffe_contratti=df_contratti.join (df_prodotti,\"nome_commerciale\").\\\n",
    "        withColumn (\"realGas\",F.when (F.col('vettore')=='GAS',df_prodotti.gas).otherwise (None)).\\\n",
    "        withColumn (\"realEle\",F.when (F.col('vettore')=='ELE',df_prodotti.ELE).otherwise (None)).\\\n",
    "        drop ('gas','ELE')\n",
    "    \n",
    "    df_tariffe_soggetti=df_tariffe_contratti.groupby (df_tariffe_contratti.key_soggetti).\\\n",
    "        agg(F.min(\"data_attivazione_fornitura\"),F.mean(\"realGas\"),F.mean(\"realEle\"))\n",
    "    \n",
    "    df_tariffe_soggetti=df_tariffe_soggetti.withColumnRenamed(\"min(data_attivazione_fornitura)\",\"data_attivazione_fornitura\").\\\n",
    "        withColumnRenamed(\"avg(realGas)\",\"media_GAS\").\\\n",
    "        withColumnRenamed(\"avg(realEle)\",\"media_ELE\")\n",
    "\n",
    "## Calcolo dell'indice di churn e del canale di contatto preferenziale\n",
    "    df_contratti=dyf_contratti.toDF()\n",
    "    df_soggetti_canale_vendita=df_contratti.groupBy (df_contratti.key_soggetti,df_contratti.canale_di_vendita).\\\n",
    "            agg (F.count(df_contratti.canale_di_vendita))\n",
    "    \n",
    "    windowSpec=Window.partitionBy(\"key_soggetti\").\\\n",
    "            orderBy(F.col(\"count(canale_di_vendita)\").desc())\n",
    "    \n",
    "    df_soggetti_canale_vendita=df_soggetti_canale_vendita.\\\n",
    "        withColumn(\"rank\",F.row_number().over (windowSpec)).filter (F.col(\"rank\")==1)\n",
    "    \n",
    "    df_soggetti_canale_vendita=df_soggetti_canale_vendita.drop ('count(canale_di_vendita)','rank')\n",
    "    df_contratti_churn=df_contratti.withColumn (\"hadChurn\",F.when (F.col('data_cessazione_fornitura')<cd,1).otherwise (0))\n",
    "    df_contratti_churn=df_contratti_churn.groupBy(\"key_soggetti\").agg(F.sum(\"hadChurn\"))\n",
    "    df_contratti_churn=df_contratti_churn.\\\n",
    "        withColumn(\"Churn\",F.when (F.col('sum(hadChurn)')>=1,1).otherwise (0)).\\\n",
    "        drop(\"sum(hadChurn)\")\n",
    "    \n",
    "### Unpivot tabella regioni\n",
    "    df_contratti=dyf_contratti.toDF()\n",
    "    df_fornitura=dyf_punti_di_fornitura.toDF()\n",
    "    df_fonitura_per_contratto=df_contratti.join(df_fornitura,\"key_punti_di_fornitura\").\\\n",
    "        groupBy (\"key_soggetti\",\"regione\").\\\n",
    "        pivot(\"regione\").\\\n",
    "        agg (F.count(\"key_punti_di_fornitura\"))\n",
    "    \n",
    "### Preparazione Output    \n",
    "    output=deduplica_soggetti.join (df_contratti_per_soggetto,\"key_soggetti\").\\\n",
    "        join(df_debito_medio_per_cliente,\"key_soggetti\").\\\n",
    "        join(df_tariffe_soggetti,\"key_soggetti\").\\\n",
    "        join(df_contratti_churn,\"key_soggetti\").\\\n",
    "        join (df_soggetti_canale_vendita,\"key_soggetti\").\\\n",
    "        join (df_fonitura_per_contratto,\"key_soggetti\")\n",
    "    \n",
    "    dyf_output = DynamicFrame.fromDF(output, glueContext, \"output\")\n",
    "    return(DynamicFrameCollection({\"CustomTransform0\": dyf_output}, glueContext))   \n"
   ]
  },
  {
   "cell_type": "code",
   "execution_count": 4,
   "metadata": {},
   "outputs": [
    {
     "data": {
      "application/vnd.jupyter.widget-view+json": {
       "model_id": "f5bdf448782c46ac8ddcbcb56c1d532d",
       "version_major": 2,
       "version_minor": 0
      },
      "text/plain": [
       "FloatProgress(value=0.0, bar_style='info', description='Progress:', layout=Layout(height='25px', width='50%'),…"
      ]
     },
     "metadata": {},
     "output_type": "display_data"
    }
   ],
   "source": [
    "\n",
    "## @params: [JOB_NAME]\n",
    "#RIMUOVERE COMMENTO PER USARE IN GLUE\n",
    "#args = getResolvedOptions(sys.argv, ['JOB_NAME'])\n",
    "\n",
    "#sc = SparkContext()\n",
    "#glueContext = GlueContext(sc)\n",
    "#spark = glueContext.spark_session\n",
    "#job = Job(glueContext)\n",
    "#job.init(args['JOB_NAME'], args)\n",
    "#FINE RIMUOVERE COMMENTO PER USARE IN GLUE\n",
    "\n",
    "\n",
    "## @type: DataSource\n",
    "## @args: [database = \"datalake\", table_name = \"l_orcl_admin_prodotti\", transformation_ctx = \"DataSource0\"]\n",
    "## @return: DataSource0\n",
    "## @inputs: []\n",
    "DataSource0 = glueContext.create_dynamic_frame.from_catalog(database = \"datalake\", table_name = \"l_orcl_admin_prodotti\", transformation_ctx = \"DataSource0\")\n",
    "## @type: DataSource\n",
    "## @args: [database = \"datalake\", table_name = \"l_orcl_admin_credito\", transformation_ctx = \"DataSource4\"]\n",
    "## @return: DataSource4\n",
    "## @inputs: []\n",
    "DataSource4 = glueContext.create_dynamic_frame.from_catalog(database = \"datalake\", table_name = \"l_orcl_admin_credito\", transformation_ctx = \"DataSource4\")\n",
    "## @type: DataSource\n",
    "## @args: [database = \"datalake\", table_name = \"_temp_l_orcl_admin_soggetti\", transformation_ctx = \"DataSource3\"]\n",
    "## @return: DataSource3\n",
    "## @inputs: []\n",
    "DataSource3 = glueContext.create_dynamic_frame.from_catalog(database = \"datalake\", table_name = \"l_orcl_admin_soggetti\", transformation_ctx = \"DataSource3\")\n",
    "## @type: DataSource\n",
    "## @args: [database = \"datalake\", table_name = \"l_orcl_admin_punti_di_fornitura\", transformation_ctx = \"DataSource2\"]\n",
    "## @return: DataSource2\n",
    "## @inputs: []\n",
    "DataSource2 = glueContext.create_dynamic_frame.from_catalog(database = \"datalake\", table_name = \"l_orcl_admin_punti_di_fornitura\", transformation_ctx = \"DataSource2\")\n",
    "## @type: DataSource\n",
    "## @args: [database = \"datalake\", table_name = \"l_orcl_admin_contratti\", transformation_ctx = \"DataSource1\"]\n",
    "## @return: DataSource1\n",
    "## @inputs: []\n",
    "DataSource1 = glueContext.create_dynamic_frame.from_catalog(database = \"datalake\", table_name = \"l_orcl_admin_contratti\", transformation_ctx = \"DataSource1\")\n"
   ]
  },
  {
   "cell_type": "code",
   "execution_count": 5,
   "metadata": {},
   "outputs": [
    {
     "data": {
      "application/vnd.jupyter.widget-view+json": {
       "model_id": "07a8814a5ad14600afe4e240f364c2dd",
       "version_major": 2,
       "version_minor": 0
      },
      "text/plain": [
       "FloatProgress(value=0.0, bar_style='info', description='Progress:', layout=Layout(height='25px', width='50%'),…"
      ]
     },
     "metadata": {},
     "output_type": "display_data"
    },
    {
     "name": "stdout",
     "output_type": "stream",
     "text": [
      "Execution time: 143.2861680984497"
     ]
    }
   ],
   "source": [
    "import time\n",
    "start = time.time()\n",
    "\n",
    "## @type: CustomCode\n",
    "## @args: [dynamicFrameConstruction = DynamicFrameCollection({\"DataSource1\": DataSource1 ,\"DataSource4\": DataSource4 ,\"DataSource0\": DataSource0 ,\"DataSource2\": DataSource2 ,\"DataSource3\": DataSource3}, glueContext), className = MyTransform, transformation_ctx = \"Transform0\"]\n",
    "## @return: Transform0\n",
    "## @inputs: [dfc = DataSource1,DataSource4,DataSource0,DataSource2,DataSource3]\n",
    "Transform0 = MyTransform(glueContext, DynamicFrameCollection({\"Contratti\": DataSource1 ,\"Credito\": DataSource4 ,\"Prodotti\": DataSource0 ,\"PuntiDiFornitura\": DataSource2 ,\"Soggetti\": DataSource3}, glueContext))\n",
    "\n",
    "end = time.time()\n",
    "print(\"Execution time:\",end - start)"
   ]
  },
  {
   "cell_type": "code",
   "execution_count": 6,
   "metadata": {},
   "outputs": [
    {
     "data": {
      "application/vnd.jupyter.widget-view+json": {
       "model_id": "7be0cd7586294fb58c2c5a442ec847b0",
       "version_major": 2,
       "version_minor": 0
      },
      "text/plain": [
       "FloatProgress(value=0.0, bar_style='info', description='Progress:', layout=Layout(height='25px', width='50%'),…"
      ]
     },
     "metadata": {},
     "output_type": "display_data"
    },
    {
     "name": "stdout",
     "output_type": "stream",
     "text": [
      "Execution time: 817.0350642204285"
     ]
    }
   ],
   "source": [
    "import time\n",
    "start = time.time()\n",
    "\n",
    "\n",
    "## @type: DataSink\n",
    "## @args: [connection_type = \"s3\", format = \"parquet\", connection_options = {\"path\": \"s3://fede-analytics-694275606777/transformed/customer_view_churn_analys/\", \"partitionKeys\": []}, transformation_ctx = \"DataSink0\"]\n",
    "## @return: DataSink0\n",
    "## @inputs: [frame = Transform0]\n",
    "DataSink0 = glueContext.write_dynamic_frame.from_options(frame = Transform0, connection_type = \"s3\", format = \"parquet\", connection_options = {\"path\": \"s3://fede-analytics-694275606777/transformed/customer_view_churn_analisys/\", \"partitionKeys\": []}, transformation_ctx = \"DataSink0\")\n",
    "\n",
    "\n",
    "end = time.time()\n",
    "print(\"Execution time:\",end - start)"
   ]
  },
  {
   "cell_type": "code",
   "execution_count": null,
   "metadata": {},
   "outputs": [],
   "source": []
  }
 ],
 "metadata": {
  "kernelspec": {
   "display_name": "Sparkmagic (PySpark)",
   "language": "",
   "name": "pysparkkernel"
  },
  "language_info": {
   "codemirror_mode": {
    "name": "python",
    "version": 3
   },
   "mimetype": "text/x-python",
   "name": "pyspark",
   "pygments_lexer": "python3"
  }
 },
 "nbformat": 4,
 "nbformat_minor": 4
}
