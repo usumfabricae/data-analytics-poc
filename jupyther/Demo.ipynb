{
 "cells": [
  {
   "cell_type": "markdown",
   "metadata": {},
   "source": [
    "## Setup connection to glue developer endpoint"
   ]
  },
  {
   "cell_type": "markdown",
   "metadata": {},
   "source": [
    "Edit file $HOME/.sparkmagic/config.json and replace localhost with Glue Developer Endpoint IP address"
   ]
  },
  {
   "cell_type": "markdown",
   "metadata": {},
   "source": [
    "restart Pyspark Kernel"
   ]
  },
  {
   "cell_type": "code",
   "execution_count": 1,
   "metadata": {},
   "outputs": [
    {
     "name": "stdout",
     "output_type": "stream",
     "text": [
      "Starting Spark application\n"
     ]
    },
    {
     "data": {
      "text/html": [
       "<table>\n",
       "<tr><th>ID</th><th>YARN Application ID</th><th>Kind</th><th>State</th><th>Spark UI</th><th>Driver log</th><th>Current session?</th></tr><tr><td>34</td><td>application_1602576689786_0035</td><td>pyspark</td><td>idle</td><td><a target=\"_blank\" href=\"http://ip-172-31-7-158.eu-west-1.compute.internal:20888/proxy/application_1602576689786_0035/\">Link</a></td><td><a target=\"_blank\" href=\"http://ip-172-31-10-237.eu-west-1.compute.internal:8042/node/containerlogs/container_1602576689786_0035_01_000001/livy\">Link</a></td><td>✔</td></tr></table>"
      ],
      "text/plain": [
       "<IPython.core.display.HTML object>"
      ]
     },
     "metadata": {},
     "output_type": "display_data"
    },
    {
     "data": {
      "application/vnd.jupyter.widget-view+json": {
       "model_id": "63cb7e2487704fc795175d37ae40c054",
       "version_major": 2,
       "version_minor": 0
      },
      "text/plain": [
       "FloatProgress(value=0.0, bar_style='info', description='Progress:', layout=Layout(height='25px', width='50%'),…"
      ]
     },
     "metadata": {},
     "output_type": "display_data"
    },
    {
     "name": "stdout",
     "output_type": "stream",
     "text": [
      "SparkSession available as 'spark'.\n"
     ]
    },
    {
     "data": {
      "application/vnd.jupyter.widget-view+json": {
       "model_id": "b443518f750147328dde2c3ef1d8f366",
       "version_major": 2,
       "version_minor": 0
      },
      "text/plain": [
       "FloatProgress(value=0.0, bar_style='info', description='Progress:', layout=Layout(height='25px', width='50%'),…"
      ]
     },
     "metadata": {},
     "output_type": "display_data"
    }
   ],
   "source": [
    "import sys\n",
    "from awsglue.transforms import *\n",
    "from awsglue.utils import getResolvedOptions\n",
    "from pyspark.context import SparkContext\n",
    "from awsglue.context import GlueContext\n",
    "from awsglue.job import Job\n",
    "from awsglue.dynamicframe import DynamicFrameCollection\n",
    "from awsglue.dynamicframe import DynamicFrame\n",
    "\n",
    "import pyspark.sql.functions as F\n",
    "import time\n",
    "from pyspark.sql import Window\n",
    "\n",
    "\n",
    "glueContext = GlueContext(SparkContext.getOrCreate())"
   ]
  },
  {
   "cell_type": "markdown",
   "metadata": {},
   "source": [
    "## Analyze database schema"
   ]
  },
  {
   "cell_type": "markdown",
   "metadata": {},
   "source": [
    "Accessing directly to source Oracle Database Tabes using Catalog"
   ]
  },
  {
   "cell_type": "code",
   "execution_count": 2,
   "metadata": {},
   "outputs": [
    {
     "data": {
      "application/vnd.jupyter.widget-view+json": {
       "model_id": "c20f21a3d4444ba3a4726ca37ee10489",
       "version_major": 2,
       "version_minor": 0
      },
      "text/plain": [
       "FloatProgress(value=0.0, bar_style='info', description='Progress:', layout=Layout(height='25px', width='50%'),…"
      ]
     },
     "metadata": {},
     "output_type": "display_data"
    },
    {
     "name": "stdout",
     "output_type": "stream",
     "text": [
      "Count: 19541434\n",
      "root\n",
      "|-- KEY_SOGGETTI: decimal\n",
      "|-- NOME: string\n",
      "|-- COGNOME: string\n",
      "|-- COMUNE_RESIDENZA: string\n",
      "|-- NAZIONE_NASCITA: string\n",
      "|-- TITOLO_DI_STUDIO: string\n",
      "|-- ETA_CLIENTE: decimal\n",
      "|-- DATA_ISCRIZIONE_SPORTELLO_ONLINE: timestamp\n",
      "|-- CANALE_CONTATTO_PREFERENZIALE: string\n",
      "|-- RATING_CREDITIZIO: string\n",
      "|-- TIPOLOGIA_CLIENTE: string\n",
      "|-- RETENTION_VALUE: string\n",
      "|-- VAS: string"
     ]
    }
   ],
   "source": [
    "oracle_soggetti = glueContext.create_dynamic_frame.from_catalog(database=\"oracle_source\", table_name=\"orcl_admin_soggetti\")\n",
    "print(\"Count: \" + str(oracle_soggetti.count()))\n",
    "oracle_soggetti.printSchema()"
   ]
  },
  {
   "cell_type": "markdown",
   "metadata": {},
   "source": [
    "Access data saved by DMS in cdc, csv format"
   ]
  },
  {
   "cell_type": "code",
   "execution_count": 3,
   "metadata": {},
   "outputs": [
    {
     "data": {
      "application/vnd.jupyter.widget-view+json": {
       "model_id": "26ef76d7cacf4202b3dd5d1071cc1269",
       "version_major": 2,
       "version_minor": 0
      },
      "text/plain": [
       "FloatProgress(value=0.0, bar_style='info', description='Progress:', layout=Layout(height='25px', width='50%'),…"
      ]
     },
     "metadata": {},
     "output_type": "display_data"
    },
    {
     "name": "stdout",
     "output_type": "stream",
     "text": [
      "Count: 19541434\n",
      "root\n",
      "|-- op: string\n",
      "|-- key_soggetti: long\n",
      "|-- nome: string\n",
      "|-- cognome: string\n",
      "|-- comune_residenza: string\n",
      "|-- nazione_nascita: string\n",
      "|-- titolo_di_studio: string\n",
      "|-- eta_cliente: long\n",
      "|-- data_iscrizione_sportello_online: string\n",
      "|-- canale_contatto_preferenziale: string\n",
      "|-- rating_creditizio: string\n",
      "|-- tipologia_cliente: string\n",
      "|-- retention_value: string\n",
      "|-- vas: string\n",
      "\n",
      "Execution time: 139.19863963127136"
     ]
    }
   ],
   "source": [
    "import time\n",
    "start = time.time()\n",
    "\n",
    "cdc_soggetti = glueContext.create_dynamic_frame.from_catalog(database=\"cdc\", table_name=\"soggetti\")\n",
    "print(\"Count: \" + str(cdc_soggetti .count()))\n",
    "cdc_soggetti.printSchema()\n",
    "\n",
    "end = time.time()\n",
    "print(\"Execution time:\",end - start)"
   ]
  },
  {
   "cell_type": "markdown",
   "metadata": {},
   "source": [
    "## Trasformazioni"
   ]
  },
  {
   "cell_type": "markdown",
   "metadata": {},
   "source": [
    "### Deduplica soggetti"
   ]
  },
  {
   "cell_type": "code",
   "execution_count": 4,
   "metadata": {},
   "outputs": [
    {
     "data": {
      "application/vnd.jupyter.widget-view+json": {
       "model_id": "b4b0251ac1744d1497688e4980b6801a",
       "version_major": 2,
       "version_minor": 0
      },
      "text/plain": [
       "FloatProgress(value=0.0, bar_style='info', description='Progress:', layout=Layout(height='25px', width='50%'),…"
      ]
     },
     "metadata": {},
     "output_type": "display_data"
    }
   ],
   "source": [
    "dyf_soggetti = glueContext.create_dynamic_frame.from_catalog(database=\"datalake\", table_name=\"l_orcl_admin_soggetti\")"
   ]
  },
  {
   "cell_type": "code",
   "execution_count": 5,
   "metadata": {},
   "outputs": [
    {
     "data": {
      "application/vnd.jupyter.widget-view+json": {
       "model_id": "bd9ad3dade9e4908a5b0898c8c71f9ad",
       "version_major": 2,
       "version_minor": 0
      },
      "text/plain": [
       "FloatProgress(value=0.0, bar_style='info', description='Progress:', layout=Layout(height='25px', width='50%'),…"
      ]
     },
     "metadata": {},
     "output_type": "display_data"
    },
    {
     "name": "stdout",
     "output_type": "stream",
     "text": [
      "root\n",
      " |-- nazione_nascita: string (nullable = true)\n",
      " |-- rating_creditizio: string (nullable = true)\n",
      " |-- retention_value: string (nullable = true)\n",
      " |-- comune_residenza: string (nullable = true)\n",
      " |-- cognome: string (nullable = true)\n",
      " |-- eta_cliente: decimal(10,0) (nullable = true)\n",
      " |-- vas: string (nullable = true)\n",
      " |-- canale_contatto_preferenziale: string (nullable = true)\n",
      " |-- titolo_di_studio: string (nullable = true)\n",
      " |-- tipologia_cliente: string (nullable = true)\n",
      " |-- data_iscrizione_sportello_online: timestamp (nullable = true)\n",
      " |-- key_soggetti: decimal(10,0) (nullable = true)\n",
      " |-- nome: string (nullable = true)"
     ]
    }
   ],
   "source": [
    "deduplica_soggetti=dyf_soggetti.toDF()\n",
    "deduplica_soggetti.printSchema()"
   ]
  },
  {
   "cell_type": "code",
   "execution_count": 6,
   "metadata": {},
   "outputs": [
    {
     "data": {
      "application/vnd.jupyter.widget-view+json": {
       "model_id": "8cea8b3547124ba68d22b7ae726b8bc1",
       "version_major": 2,
       "version_minor": 0
      },
      "text/plain": [
       "FloatProgress(value=0.0, bar_style='info', description='Progress:', layout=Layout(height='25px', width='50%'),…"
      ]
     },
     "metadata": {},
     "output_type": "display_data"
    },
    {
     "name": "stdout",
     "output_type": "stream",
     "text": [
      "root\n",
      " |-- nazione_nascita: string (nullable = true)\n",
      " |-- rating_creditizio: string (nullable = true)\n",
      " |-- retention_value: string (nullable = true)\n",
      " |-- comune_residenza: string (nullable = true)\n",
      " |-- cognome: string (nullable = true)\n",
      " |-- eta_cliente: decimal(10,0) (nullable = true)\n",
      " |-- vas: string (nullable = true)\n",
      " |-- canale_contatto_preferenziale: string (nullable = true)\n",
      " |-- titolo_di_studio: string (nullable = true)\n",
      " |-- tipologia_cliente: string (nullable = true)\n",
      " |-- data_iscrizione_sportello_online: timestamp (nullable = true)\n",
      " |-- key_soggetti: decimal(10,0) (nullable = true)\n",
      " |-- nome: string (nullable = true)\n",
      " |-- rank: integer (nullable = true)"
     ]
    }
   ],
   "source": [
    "windowSpec=Window.partitionBy(deduplica_soggetti.nome,deduplica_soggetti.cognome).\\\n",
    "orderBy(F.col(\"key_soggetti\").desc())\n",
    "\n",
    "deduplica_soggetti=deduplica_soggetti.withColumn(\"rank\",F.row_number().over (windowSpec)).filter (F.col(\"rank\")==1)\n",
    "\n",
    "deduplica_soggetti.printSchema()"
   ]
  },
  {
   "cell_type": "code",
   "execution_count": 7,
   "metadata": {},
   "outputs": [
    {
     "data": {
      "application/vnd.jupyter.widget-view+json": {
       "model_id": "b2297cb2293845a0b2c01b5b63868bf3",
       "version_major": 2,
       "version_minor": 0
      },
      "text/plain": [
       "FloatProgress(value=0.0, bar_style='info', description='Progress:', layout=Layout(height='25px', width='50%'),…"
      ]
     },
     "metadata": {},
     "output_type": "display_data"
    },
    {
     "name": "stdout",
     "output_type": "stream",
     "text": [
      "+---------------+-----------------+---------------+------------------+----------+-----------+----+-----------------------------+-----------------+-----------------+--------------------------------+------------+------+----+\n",
      "|nazione_nascita|rating_creditizio|retention_value|  comune_residenza|   cognome|eta_cliente| vas|canale_contatto_preferenziale| titolo_di_studio|tipologia_cliente|data_iscrizione_sportello_online|key_soggetti|  nome|rank|\n",
      "+---------------+-----------------+---------------+------------------+----------+-----------+----+-----------------------------+-----------------+-----------------+--------------------------------+------------+------+----+\n",
      "|         Italia|                B|         BRONZE|            Pesaro|   Angotti|         30|null|                     Telefono|     Laurea breve|         Business|             2018-08-09 00:00:00|    19590663|Abelie|   1|\n",
      "|         Italia|                G|           null| Quartu Sant'Elena|   Argenta|         49|null|                        Email|Laurea magistrale|   Small Business|             2018-12-17 00:00:00|     9377354|Abelie|   1|\n",
      "|         Italia|                B|         BRONZE|            Varese|     Bozzo|         37|null|                         null|Laurea magistrale|     Residenziale|                            null|    17613677|Abelie|   1|\n",
      "|         Italia|                B|           null|     Civitavecchia|   Buccino|         28|null|                         null|Laurea magistrale|     Residenziale|                            null|     1071750|Abelie|   1|\n",
      "|         Italia|                B|           null|  Marano di Napoli|Castellani|         65|null|                         null|Laurea magistrale|   Small Business|                            null|    17820389|Abelie|   1|\n",
      "|         Italia|                B|           null|            Trento| Celentano|         27|null|                     Telefono|     Laurea breve|     Residenziale|                            null|    15611637|Abelie|   1|\n",
      "|         Italia|                B|           null| Quartu Sant'Elena|   Columbo|         23|null|                        Email|Laurea magistrale|   Small Business|                            null|     7535911|Abelie|   1|\n",
      "|         Italia|                B|           null|           Aprilia|    Felici|         41|null|                         null|        Dottorato|   Small Business|                            null|    14372198|Abelie|   1|\n",
      "|         Italia|                B|           null|            Matera|   Fragale|         48|null|                     Telefono|Laurea magistrale|   Small Business|                            null|    12084517|Abelie|   1|\n",
      "|         Italia|                B|           null|             Parma|     Lauri|         42|null|                         null|     Laurea breve|   Small Business|                            null|    15523594|Abelie|   1|\n",
      "|         Italia|                B|         BRONZE|           Portici|   Lazzaro|         57|null|                         null|     Laurea breve|     Residenziale|                            null|    19467193|Abelie|   1|\n",
      "|         Italia|                B|           null|          Acireale|     Paoli|         20|null|                         null|        Dottorato|     Residenziale|                            null|     7680207|Abelie|   1|\n",
      "|         Italia|                D|         BRONZE|           Potenza|  Raffetto|         39|null|                         null|     Laurea breve|     Residenziale|                            null|    19205170|Abelie|   1|\n",
      "|         Italia|                B|           null|             Carpi|   Razzano|         41|null|                     Telefono|Laurea magistrale|     Residenziale|                            null|    16635389|Abelie|   1|\n",
      "|         Italia|                C|           null|          Vigevano|    Salemi|         57|null|                        Email|Laurea magistrale|     Residenziale|                            null|    14836237|Abelie|   1|\n",
      "|         Italia|                B|           null|         Catanzaro| Salvaggio|         25|null|                     Telefono|     Laurea breve|     Residenziale|                            null|     6579487|Abelie|   1|\n",
      "|         Italia|                B|           null|          Siracusa| Sciarrino|         61|null|                        Email|     Laurea breve|     Residenziale|                            null|    14883007|Abelie|   1|\n",
      "|         Italia|                B|         SILVER|             Prato|    Spezia|         48|null|                         null|     Laurea breve|     Residenziale|             2018-03-13 00:00:00|    17460037|Abelie|   1|\n",
      "|         Italia|                B|           null|             Cuneo|  Zavaglia|         48|null|                     Telefono|Laurea magistrale|     Residenziale|                            null|    16622345|Abelie|   1|\n",
      "|         Italia|                B|           null|Sesto San Giovanni|   Busacca|         22|null|                        Email|        Dottorato|     Residenziale|                            null|    19069635|Aberto|   1|\n",
      "+---------------+-----------------+---------------+------------------+----------+-----------+----+-----------------------------+-----------------+-----------------+--------------------------------+------------+------+----+\n",
      "only showing top 20 rows\n",
      "\n",
      "Execution time: 95.69769620895386"
     ]
    }
   ],
   "source": [
    "import time\n",
    "start = time.time()\n",
    "\n",
    "deduplica_soggetti.show()\n",
    "\n",
    "end = time.time()\n",
    "print(\"Execution time:\",end - start)"
   ]
  },
  {
   "cell_type": "markdown",
   "metadata": {},
   "source": [
    "### Numero Contratti per soggetto"
   ]
  },
  {
   "cell_type": "code",
   "execution_count": 8,
   "metadata": {},
   "outputs": [
    {
     "data": {
      "application/vnd.jupyter.widget-view+json": {
       "model_id": "d49a2790e5e04f1793c6fd1c313b3dc6",
       "version_major": 2,
       "version_minor": 0
      },
      "text/plain": [
       "FloatProgress(value=0.0, bar_style='info', description='Progress:', layout=Layout(height='25px', width='50%'),…"
      ]
     },
     "metadata": {},
     "output_type": "display_data"
    }
   ],
   "source": [
    "\n",
    "dyf_contratti = glueContext.create_dynamic_frame.from_catalog(database=\"datalake\", table_name=\"l_orcl_admin_contratti\")\n"
   ]
  },
  {
   "cell_type": "code",
   "execution_count": 9,
   "metadata": {},
   "outputs": [
    {
     "data": {
      "application/vnd.jupyter.widget-view+json": {
       "model_id": "d7ca544c65bc4d3ea470d88bc80ce6ec",
       "version_major": 2,
       "version_minor": 0
      },
      "text/plain": [
       "FloatProgress(value=0.0, bar_style='info', description='Progress:', layout=Layout(height='25px', width='50%'),…"
      ]
     },
     "metadata": {},
     "output_type": "display_data"
    },
    {
     "name": "stdout",
     "output_type": "stream",
     "text": [
      "root\n",
      " |-- codice_contratto: string (nullable = true)\n",
      " |-- anno_prima_attivazione_fornitura: decimal(10,0) (nullable = true)\n",
      " |-- key_contratti: decimal(10,0) (nullable = true)\n",
      " |-- data_cessazione_fornitura: timestamp (nullable = true)\n",
      " |-- data_attivazione_fornitura: timestamp (nullable = true)\n",
      " |-- nome_commerciale: string (nullable = true)\n",
      " |-- canale_di_vendita: string (nullable = true)\n",
      " |-- key_punti_di_fornitura: decimal(10,0) (nullable = true)\n",
      " |-- key_soggetti: decimal(10,0) (nullable = true)\n",
      " |-- vettore: string (nullable = true)"
     ]
    }
   ],
   "source": [
    "df_contratti_per_soggetto=dyf_contratti.toDF()\n",
    "df_contratti_per_soggetto.printSchema()"
   ]
  },
  {
   "cell_type": "code",
   "execution_count": 10,
   "metadata": {},
   "outputs": [
    {
     "data": {
      "application/vnd.jupyter.widget-view+json": {
       "model_id": "763b114676d341eeaa62b9ab1468e4c3",
       "version_major": 2,
       "version_minor": 0
      },
      "text/plain": [
       "FloatProgress(value=0.0, bar_style='info', description='Progress:', layout=Layout(height='25px', width='50%'),…"
      ]
     },
     "metadata": {},
     "output_type": "display_data"
    }
   ],
   "source": [
    "df_contratti_per_soggetto=df_contratti_per_soggetto.groupBy(\"key_soggetti\").count()"
   ]
  },
  {
   "cell_type": "code",
   "execution_count": 11,
   "metadata": {},
   "outputs": [
    {
     "data": {
      "application/vnd.jupyter.widget-view+json": {
       "model_id": "c54bf743fb854fa6ad2f588365dacc19",
       "version_major": 2,
       "version_minor": 0
      },
      "text/plain": [
       "FloatProgress(value=0.0, bar_style='info', description='Progress:', layout=Layout(height='25px', width='50%'),…"
      ]
     },
     "metadata": {},
     "output_type": "display_data"
    },
    {
     "name": "stdout",
     "output_type": "stream",
     "text": [
      "root\n",
      " |-- key_soggetti: decimal(10,0) (nullable = true)\n",
      " |-- count: long (nullable = false)"
     ]
    }
   ],
   "source": [
    "df_contratti_per_soggetto.printSchema()"
   ]
  },
  {
   "cell_type": "code",
   "execution_count": 12,
   "metadata": {},
   "outputs": [
    {
     "data": {
      "application/vnd.jupyter.widget-view+json": {
       "model_id": "fb689f2119cd4bb7babb42681efa79f5",
       "version_major": 2,
       "version_minor": 0
      },
      "text/plain": [
       "FloatProgress(value=0.0, bar_style='info', description='Progress:', layout=Layout(height='25px', width='50%'),…"
      ]
     },
     "metadata": {},
     "output_type": "display_data"
    },
    {
     "name": "stdout",
     "output_type": "stream",
     "text": [
      "+------------+-----+\n",
      "|key_soggetti|count|\n",
      "+------------+-----+\n",
      "|      142030|    3|\n",
      "|     2161320|    3|\n",
      "|      263659|    3|\n",
      "|     1573061|    3|\n",
      "|      257944|    3|\n",
      "|     1333120|    3|\n",
      "|     4906015|    2|\n",
      "|      765951|    2|\n",
      "|       10871|    1|\n",
      "|     1671355|    3|\n",
      "|     3402851|    3|\n",
      "|     3937275|    2|\n",
      "|      861714|    3|\n",
      "|     5969360|    3|\n",
      "|     3731174|    2|\n",
      "|     1780560|    3|\n",
      "|     3654783|    3|\n",
      "|     3440039|    2|\n",
      "|     4447387|    2|\n",
      "|      781594|    3|\n",
      "+------------+-----+\n",
      "only showing top 20 rows\n",
      "\n",
      "Execution time: 146.50318956375122"
     ]
    }
   ],
   "source": [
    "import time\n",
    "start = time.time()\n",
    "\n",
    "df_contratti_per_soggetto.show()\n",
    "\n",
    "end = time.time()\n",
    "print(\"Execution time:\",end - start)"
   ]
  },
  {
   "cell_type": "markdown",
   "metadata": {},
   "source": [
    "### Debito Medio per Soggetto"
   ]
  },
  {
   "cell_type": "code",
   "execution_count": 13,
   "metadata": {},
   "outputs": [
    {
     "data": {
      "application/vnd.jupyter.widget-view+json": {
       "model_id": "636defc0516e46dc9429adcf980c96d1",
       "version_major": 2,
       "version_minor": 0
      },
      "text/plain": [
       "FloatProgress(value=0.0, bar_style='info', description='Progress:', layout=Layout(height='25px', width='50%'),…"
      ]
     },
     "metadata": {},
     "output_type": "display_data"
    }
   ],
   "source": [
    "\n",
    "def MyTransform (glueContext, dfc) -> DynamicFrameCollection:\n",
    "    df = dfc.select(list(dfc.keys())[0]).toDF()\n",
    "    \n",
    "    df=df.withColumn(\"d_importo\", (sf.col(\"importo\").substr(sf.lit(1), sf.instr(sf.col(\"importo\"), '€')-2)).cast('double'))\n",
    "    debito_per_soggetto=df.groupBy(\"key_soggetti\").agg (sf.mean(\"d_importo\"))\n",
    "    dyf_debito_per_soggetto = DynamicFrame.fromDF(debito_per_soggetto, glueContext, \"debito_per_soggetto\")\n",
    "    return(DynamicFrameCollection({\"CustomTransform0\": dyf_debito_per_soggetto}, glueContext))   "
   ]
  },
  {
   "cell_type": "code",
   "execution_count": 19,
   "metadata": {},
   "outputs": [
    {
     "data": {
      "application/vnd.jupyter.widget-view+json": {
       "model_id": "c4ac2bf2967c496fa5332617c1b99f0e",
       "version_major": 2,
       "version_minor": 0
      },
      "text/plain": [
       "FloatProgress(value=0.0, bar_style='info', description='Progress:', layout=Layout(height='25px', width='50%'),…"
      ]
     },
     "metadata": {},
     "output_type": "display_data"
    }
   ],
   "source": [
    "\n",
    "#dfc=DynamicFrameCollection({\"CustomTransform0\": dyf_credito}, glueContext)\n",
    "#dynres=MyTransform(glueContext,dfc)\n",
    "#df=dynres.select(list(dynres.keys())[0]).toDF()\n",
    "#df.show()"
   ]
  },
  {
   "cell_type": "code",
   "execution_count": 20,
   "metadata": {},
   "outputs": [
    {
     "data": {
      "application/vnd.jupyter.widget-view+json": {
       "model_id": "dfeeaaf736ad41dfb00ad4bc0cfdbaeb",
       "version_major": 2,
       "version_minor": 0
      },
      "text/plain": [
       "FloatProgress(value=0.0, bar_style='info', description='Progress:', layout=Layout(height='25px', width='50%'),…"
      ]
     },
     "metadata": {},
     "output_type": "display_data"
    }
   ],
   "source": [
    "dyf_credito=glueContext.create_dynamic_frame.from_catalog(database=\"datalake\", table_name=\"l_orcl_admin_credito\")\n",
    "df_debito_medio_per_cliente=dyf_credito.toDF()"
   ]
  },
  {
   "cell_type": "code",
   "execution_count": 21,
   "metadata": {},
   "outputs": [
    {
     "data": {
      "application/vnd.jupyter.widget-view+json": {
       "model_id": "efbdaa34ade547b09c0c9904533aa7e7",
       "version_major": 2,
       "version_minor": 0
      },
      "text/plain": [
       "FloatProgress(value=0.0, bar_style='info', description='Progress:', layout=Layout(height='25px', width='50%'),…"
      ]
     },
     "metadata": {},
     "output_type": "display_data"
    }
   ],
   "source": [
    "df_debito_medio_per_cliente=df_debito_medio_per_cliente.withColumn(\"d_importo\", (F.col(\"importo\").substr(F.lit(1), F.instr(F.col(\"importo\"), '€')-2)).cast('double'))\n",
    "df_debito_medio_per_cliente=df_debito_medio_per_cliente.groupBy(\"key_soggetti\").agg (F.mean(\"d_importo\"))"
   ]
  },
  {
   "cell_type": "code",
   "execution_count": 22,
   "metadata": {},
   "outputs": [
    {
     "data": {
      "application/vnd.jupyter.widget-view+json": {
       "model_id": "d28aaf98febd4f07aeb47ec3cc97af5a",
       "version_major": 2,
       "version_minor": 0
      },
      "text/plain": [
       "FloatProgress(value=0.0, bar_style='info', description='Progress:', layout=Layout(height='25px', width='50%'),…"
      ]
     },
     "metadata": {},
     "output_type": "display_data"
    },
    {
     "name": "stdout",
     "output_type": "stream",
     "text": [
      "root\n",
      " |-- key_soggetti: decimal(10,0) (nullable = true)\n",
      " |-- debito_medio: double (nullable = true)"
     ]
    }
   ],
   "source": [
    "df_debito_medio_per_cliente=df_debito_medio_per_cliente.withColumnRenamed(\"avg(d_importo)\",\"debito_medio\")\n",
    "df_debito_medio_per_cliente.printSchema()"
   ]
  },
  {
   "cell_type": "code",
   "execution_count": 23,
   "metadata": {},
   "outputs": [
    {
     "data": {
      "application/vnd.jupyter.widget-view+json": {
       "model_id": "5f49333132b74efcbbd636bc02813849",
       "version_major": 2,
       "version_minor": 0
      },
      "text/plain": [
       "FloatProgress(value=0.0, bar_style='info', description='Progress:', layout=Layout(height='25px', width='50%'),…"
      ]
     },
     "metadata": {},
     "output_type": "display_data"
    },
    {
     "name": "stdout",
     "output_type": "stream",
     "text": [
      "+------------+------------+\n",
      "|key_soggetti|debito_medio|\n",
      "+------------+------------+\n",
      "|     3058693|      639.91|\n",
      "|     4930281|       14.55|\n",
      "|      496357|      559.04|\n",
      "|     3424872|      233.99|\n",
      "|     7304798|       609.9|\n",
      "|     2193250|      245.99|\n",
      "|     6626091|       628.2|\n",
      "|     7077330|      600.47|\n",
      "|     5754383|      661.06|\n",
      "|     7566074|      553.87|\n",
      "|     7560804|      225.31|\n",
      "|     5424120|      179.81|\n",
      "|     4950014|       82.46|\n",
      "|     1998503|      989.79|\n",
      "|     6569124|      387.74|\n",
      "|     5414421|      462.32|\n",
      "|     2461396|      479.63|\n",
      "|     6593646|      661.04|\n",
      "|     2958607|      965.62|\n",
      "|     7031711|        62.5|\n",
      "+------------+------------+\n",
      "only showing top 20 rows\n",
      "\n",
      "Execution time: 22.983094930648804"
     ]
    }
   ],
   "source": [
    "import time\n",
    "start = time.time()\n",
    "\n",
    "df_debito_medio_per_cliente.show()\n",
    "\n",
    "end = time.time()\n",
    "print(\"Execution time:\",end - start)"
   ]
  },
  {
   "cell_type": "markdown",
   "metadata": {},
   "source": [
    "### ELE e Gas Medio, minimo anno_prima_attivazione_fornitura su contratti attivo"
   ]
  },
  {
   "cell_type": "code",
   "execution_count": 24,
   "metadata": {},
   "outputs": [
    {
     "data": {
      "application/vnd.jupyter.widget-view+json": {
       "model_id": "6d7973f2502542c8aabba2fb5a48ad60",
       "version_major": 2,
       "version_minor": 0
      },
      "text/plain": [
       "FloatProgress(value=0.0, bar_style='info', description='Progress:', layout=Layout(height='25px', width='50%'),…"
      ]
     },
     "metadata": {},
     "output_type": "display_data"
    }
   ],
   "source": [
    "dyf_contratti = glueContext.create_dynamic_frame.from_catalog(database=\"datalake\", table_name=\"l_orcl_admin_contratti\")\n",
    "df=dyf_contratti.toDF()"
   ]
  },
  {
   "cell_type": "code",
   "execution_count": 25,
   "metadata": {},
   "outputs": [
    {
     "data": {
      "application/vnd.jupyter.widget-view+json": {
       "model_id": "67c49c5154cd41518742ce048160f76e",
       "version_major": 2,
       "version_minor": 0
      },
      "text/plain": [
       "FloatProgress(value=0.0, bar_style='info', description='Progress:', layout=Layout(height='25px', width='50%'),…"
      ]
     },
     "metadata": {},
     "output_type": "display_data"
    },
    {
     "name": "stdout",
     "output_type": "stream",
     "text": [
      "root\n",
      " |-- codice_contratto: string (nullable = true)\n",
      " |-- anno_prima_attivazione_fornitura: decimal(10,0) (nullable = true)\n",
      " |-- key_contratti: decimal(10,0) (nullable = true)\n",
      " |-- data_cessazione_fornitura: timestamp (nullable = true)\n",
      " |-- data_attivazione_fornitura: timestamp (nullable = true)\n",
      " |-- nome_commerciale: string (nullable = true)\n",
      " |-- canale_di_vendita: string (nullable = true)\n",
      " |-- key_punti_di_fornitura: decimal(10,0) (nullable = true)\n",
      " |-- key_soggetti: decimal(10,0) (nullable = true)\n",
      " |-- vettore: string (nullable = true)"
     ]
    }
   ],
   "source": [
    "df.printSchema()"
   ]
  },
  {
   "cell_type": "markdown",
   "metadata": {},
   "source": [
    "Converto le stringhe in timestamp"
   ]
  },
  {
   "cell_type": "code",
   "execution_count": 26,
   "metadata": {},
   "outputs": [
    {
     "data": {
      "application/vnd.jupyter.widget-view+json": {
       "model_id": "44884116a6924740a4494e109fd538ac",
       "version_major": 2,
       "version_minor": 0
      },
      "text/plain": [
       "FloatProgress(value=0.0, bar_style='info', description='Progress:', layout=Layout(height='25px', width='50%'),…"
      ]
     },
     "metadata": {},
     "output_type": "display_data"
    }
   ],
   "source": [
    "\n",
    "df=df.withColumn(\"ts_data_attivazione_fornitura\",F.to_timestamp (df.data_attivazione_fornitura)).\\\n",
    "withColumn (\"ts_data_cessazione_fornitura\",F.to_timestamp (df.data_cessazione_fornitura)).\\\n",
    "drop(\"key_punti_di_fornitura\",\"data_cessazione_fornitura\",\"codice_contratto\",\"key_contratti\",\"canale_di_vendita\",\"anno_prima_attivazione_fornitura\")\n"
   ]
  },
  {
   "cell_type": "markdown",
   "metadata": {},
   "source": [
    "Aggiungo i filtri sui contratti attivi"
   ]
  },
  {
   "cell_type": "code",
   "execution_count": 27,
   "metadata": {},
   "outputs": [
    {
     "data": {
      "application/vnd.jupyter.widget-view+json": {
       "model_id": "26c2c0f5cdef482bbabeb80410f199db",
       "version_major": 2,
       "version_minor": 0
      },
      "text/plain": [
       "FloatProgress(value=0.0, bar_style='info', description='Progress:', layout=Layout(height='25px', width='50%'),…"
      ]
     },
     "metadata": {},
     "output_type": "display_data"
    }
   ],
   "source": [
    "cd=F.current_timestamp()\n",
    "df_contratti=df.filter (df.ts_data_cessazione_fornitura >= cd).\\\n",
    "filter (df.ts_data_attivazione_fornitura <= cd)"
   ]
  },
  {
   "cell_type": "code",
   "execution_count": null,
   "metadata": {},
   "outputs": [],
   "source": []
  },
  {
   "cell_type": "markdown",
   "metadata": {},
   "source": [
    "#### Carico i prodotti"
   ]
  },
  {
   "cell_type": "code",
   "execution_count": 28,
   "metadata": {},
   "outputs": [
    {
     "data": {
      "application/vnd.jupyter.widget-view+json": {
       "model_id": "97769e8f65e14904a7626365faa39e28",
       "version_major": 2,
       "version_minor": 0
      },
      "text/plain": [
       "FloatProgress(value=0.0, bar_style='info', description='Progress:', layout=Layout(height='25px', width='50%'),…"
      ]
     },
     "metadata": {},
     "output_type": "display_data"
    }
   ],
   "source": [
    "dyf_prodotti = glueContext.create_dynamic_frame.from_catalog(database=\"datalake\", table_name=\"l_orcl_admin_prodotti\")\n",
    "df_prodotti=dyf_prodotti.toDF()"
   ]
  },
  {
   "cell_type": "code",
   "execution_count": 29,
   "metadata": {},
   "outputs": [
    {
     "data": {
      "application/vnd.jupyter.widget-view+json": {
       "model_id": "3363ae0eb9674933b384e6edaa32263d",
       "version_major": 2,
       "version_minor": 0
      },
      "text/plain": [
       "FloatProgress(value=0.0, bar_style='info', description='Progress:', layout=Layout(height='25px', width='50%'),…"
      ]
     },
     "metadata": {},
     "output_type": "display_data"
    },
    {
     "name": "stdout",
     "output_type": "stream",
     "text": [
      "root\n",
      " |-- data_inizio_validita: timestamp (nullable = true)\n",
      " |-- data_fine_validita: timestamp (nullable = true)\n",
      " |-- gas: decimal(10,6) (nullable = true)\n",
      " |-- nome_prodotto: string (nullable = true)\n",
      " |-- f0: decimal(10,6) (nullable = true)\n",
      " |-- f1: decimal(10,6) (nullable = true)\n",
      " |-- f2: decimal(10,6) (nullable = true)\n",
      " |-- key_prodotti: decimal(10,0) (nullable = true)\n",
      " |-- f3: decimal(10,6) (nullable = true)"
     ]
    }
   ],
   "source": [
    "df_prodotti.printSchema()"
   ]
  },
  {
   "cell_type": "markdown",
   "metadata": {},
   "source": [
    "Formatto le colonne in formato timestamp e elimino le colonne corrisppndenti che erano stringe"
   ]
  },
  {
   "cell_type": "code",
   "execution_count": 30,
   "metadata": {},
   "outputs": [
    {
     "data": {
      "application/vnd.jupyter.widget-view+json": {
       "model_id": "651d4b41b7c4430cb4dce7a673ab3dff",
       "version_major": 2,
       "version_minor": 0
      },
      "text/plain": [
       "FloatProgress(value=0.0, bar_style='info', description='Progress:', layout=Layout(height='25px', width='50%'),…"
      ]
     },
     "metadata": {},
     "output_type": "display_data"
    }
   ],
   "source": [
    "df_prodotti=df_prodotti.withColumn(\"ts_data_inizio_validita\",F.to_timestamp (df_prodotti.data_inizio_validita)).\\\n",
    "withColumn (\"ts_data_fine_validita\",F.to_timestamp (df_prodotti.data_fine_validita)).\\\n",
    "drop ('data_inizio_validita','data_fine_validita','key_prodotti')\n"
   ]
  },
  {
   "cell_type": "markdown",
   "metadata": {},
   "source": [
    "Rinomino la colonna di join"
   ]
  },
  {
   "cell_type": "code",
   "execution_count": 31,
   "metadata": {},
   "outputs": [
    {
     "data": {
      "application/vnd.jupyter.widget-view+json": {
       "model_id": "26520ab15b404c6fa8670e15f59f27ac",
       "version_major": 2,
       "version_minor": 0
      },
      "text/plain": [
       "FloatProgress(value=0.0, bar_style='info', description='Progress:', layout=Layout(height='25px', width='50%'),…"
      ]
     },
     "metadata": {},
     "output_type": "display_data"
    }
   ],
   "source": [
    "df_prodotti=df_prodotti.withColumnRenamed(\"nome_prodotto\",\"nome_commerciale\")"
   ]
  },
  {
   "cell_type": "markdown",
   "metadata": {},
   "source": [
    "Calcolo la media delle tariffe elettriche relative al prodotto"
   ]
  },
  {
   "cell_type": "code",
   "execution_count": 32,
   "metadata": {},
   "outputs": [
    {
     "data": {
      "application/vnd.jupyter.widget-view+json": {
       "model_id": "5f6703acd79a4415aa4f0eaaf2fda811",
       "version_major": 2,
       "version_minor": 0
      },
      "text/plain": [
       "FloatProgress(value=0.0, bar_style='info', description='Progress:', layout=Layout(height='25px', width='50%'),…"
      ]
     },
     "metadata": {},
     "output_type": "display_data"
    }
   ],
   "source": [
    "df_prodotti=df_prodotti.withColumn(\"ELE\", (df_prodotti.f0+ df_prodotti.f1+ df_prodotti.f2+ df_prodotti.f3)/4).\\\n",
    "drop('f0','f1','f2','f3')"
   ]
  },
  {
   "cell_type": "code",
   "execution_count": 33,
   "metadata": {},
   "outputs": [
    {
     "data": {
      "application/vnd.jupyter.widget-view+json": {
       "model_id": "85f07d5cdefb4b32808d64b455c98a47",
       "version_major": 2,
       "version_minor": 0
      },
      "text/plain": [
       "FloatProgress(value=0.0, bar_style='info', description='Progress:', layout=Layout(height='25px', width='50%'),…"
      ]
     },
     "metadata": {},
     "output_type": "display_data"
    },
    {
     "name": "stdout",
     "output_type": "stream",
     "text": [
      "root\n",
      " |-- data_attivazione_fornitura: timestamp (nullable = true)\n",
      " |-- nome_commerciale: string (nullable = true)\n",
      " |-- key_soggetti: decimal(10,0) (nullable = true)\n",
      " |-- vettore: string (nullable = true)\n",
      " |-- ts_data_attivazione_fornitura: timestamp (nullable = true)\n",
      " |-- ts_data_cessazione_fornitura: timestamp (nullable = true)"
     ]
    }
   ],
   "source": [
    "df_contratti.printSchema()"
   ]
  },
  {
   "cell_type": "markdown",
   "metadata": {},
   "source": [
    "Metto a null le tariffe nella join relativi al prodotto non legato alla riga di contratto in esame al fine di poterle epurare dal calcolo delle medie"
   ]
  },
  {
   "cell_type": "code",
   "execution_count": 34,
   "metadata": {},
   "outputs": [
    {
     "data": {
      "application/vnd.jupyter.widget-view+json": {
       "model_id": "2c9b1b45a4054131a503ac1ac46ed4a2",
       "version_major": 2,
       "version_minor": 0
      },
      "text/plain": [
       "FloatProgress(value=0.0, bar_style='info', description='Progress:', layout=Layout(height='25px', width='50%'),…"
      ]
     },
     "metadata": {},
     "output_type": "display_data"
    },
    {
     "name": "stdout",
     "output_type": "stream",
     "text": [
      "root\n",
      " |-- nome_commerciale: string (nullable = true)\n",
      " |-- data_attivazione_fornitura: timestamp (nullable = true)\n",
      " |-- key_soggetti: decimal(10,0) (nullable = true)\n",
      " |-- vettore: string (nullable = true)\n",
      " |-- ts_data_attivazione_fornitura: timestamp (nullable = true)\n",
      " |-- ts_data_cessazione_fornitura: timestamp (nullable = true)\n",
      " |-- ts_data_inizio_validita: timestamp (nullable = true)\n",
      " |-- ts_data_fine_validita: timestamp (nullable = true)\n",
      " |-- realGas: decimal(10,6) (nullable = true)\n",
      " |-- realEle: decimal(15,8) (nullable = true)"
     ]
    }
   ],
   "source": [
    "df_tariffe_contratti=df_contratti.join (df_prodotti,\"nome_commerciale\").\\\n",
    "withColumn (\"realGas\",F.when (F.col('vettore')=='GAS',df_prodotti.gas).otherwise (None)).\\\n",
    "withColumn (\"realEle\",F.when (F.col('vettore')=='ELE',df_prodotti.ELE).otherwise (None)).\\\n",
    "drop ('gas','ELE')\n",
    "df_tariffe_contratti.printSchema()"
   ]
  },
  {
   "cell_type": "markdown",
   "metadata": {},
   "source": [
    "Calcolo la data minima e il valore medio per le tariffe luce e gas"
   ]
  },
  {
   "cell_type": "code",
   "execution_count": 35,
   "metadata": {},
   "outputs": [
    {
     "data": {
      "application/vnd.jupyter.widget-view+json": {
       "model_id": "ce3659c520bf4f2c966b6d3e84fd0e18",
       "version_major": 2,
       "version_minor": 0
      },
      "text/plain": [
       "FloatProgress(value=0.0, bar_style='info', description='Progress:', layout=Layout(height='25px', width='50%'),…"
      ]
     },
     "metadata": {},
     "output_type": "display_data"
    }
   ],
   "source": [
    "df_tariffe_soggetti=df_tariffe_contratti.groupby (df_tariffe_contratti.key_soggetti).\\\n",
    "agg(F.min(\"data_attivazione_fornitura\"),F.mean(\"realGas\"),F.mean(\"realEle\"))\n"
   ]
  },
  {
   "cell_type": "code",
   "execution_count": 36,
   "metadata": {},
   "outputs": [
    {
     "data": {
      "application/vnd.jupyter.widget-view+json": {
       "model_id": "74c52f50e43640d68229e5fb0b1ca771",
       "version_major": 2,
       "version_minor": 0
      },
      "text/plain": [
       "FloatProgress(value=0.0, bar_style='info', description='Progress:', layout=Layout(height='25px', width='50%'),…"
      ]
     },
     "metadata": {},
     "output_type": "display_data"
    },
    {
     "name": "stdout",
     "output_type": "stream",
     "text": [
      "root\n",
      " |-- key_soggetti: decimal(10,0) (nullable = true)\n",
      " |-- min(data_attivazione_fornitura): timestamp (nullable = true)\n",
      " |-- avg(realGas): decimal(14,10) (nullable = true)\n",
      " |-- avg(realEle): decimal(19,12) (nullable = true)"
     ]
    }
   ],
   "source": [
    "df_tariffe_soggetti.printSchema()"
   ]
  },
  {
   "cell_type": "markdown",
   "metadata": {},
   "source": [
    "Rinomino le colonne per semplicità"
   ]
  },
  {
   "cell_type": "code",
   "execution_count": 37,
   "metadata": {},
   "outputs": [
    {
     "data": {
      "application/vnd.jupyter.widget-view+json": {
       "model_id": "e29a6884d0ed40c788c475a69f173162",
       "version_major": 2,
       "version_minor": 0
      },
      "text/plain": [
       "FloatProgress(value=0.0, bar_style='info', description='Progress:', layout=Layout(height='25px', width='50%'),…"
      ]
     },
     "metadata": {},
     "output_type": "display_data"
    },
    {
     "name": "stdout",
     "output_type": "stream",
     "text": [
      "root\n",
      " |-- key_soggetti: decimal(10,0) (nullable = true)\n",
      " |-- data_attivazione_fornitura: timestamp (nullable = true)\n",
      " |-- media_GAS: decimal(14,10) (nullable = true)\n",
      " |-- media_ELE: decimal(19,12) (nullable = true)"
     ]
    }
   ],
   "source": [
    "df_tariffe_soggetti=df_tariffe_soggetti.withColumnRenamed(\"min(data_attivazione_fornitura)\",\"data_attivazione_fornitura\").\\\n",
    "withColumnRenamed(\"avg(realGas)\",\"media_GAS\").\\\n",
    "withColumnRenamed(\"avg(realEle)\",\"media_ELE\")\n",
    "\n",
    "df_tariffe_soggetti.printSchema()"
   ]
  },
  {
   "cell_type": "code",
   "execution_count": 38,
   "metadata": {},
   "outputs": [
    {
     "data": {
      "application/vnd.jupyter.widget-view+json": {
       "model_id": "abd32b73a24848b5ae330cd3dd737256",
       "version_major": 2,
       "version_minor": 0
      },
      "text/plain": [
       "FloatProgress(value=0.0, bar_style='info', description='Progress:', layout=Layout(height='25px', width='50%'),…"
      ]
     },
     "metadata": {},
     "output_type": "display_data"
    },
    {
     "name": "stdout",
     "output_type": "stream",
     "text": [
      "+------------+--------------------------+------------+--------------+\n",
      "|key_soggetti|data_attivazione_fornitura|   media_GAS|     media_ELE|\n",
      "+------------+--------------------------+------------+--------------+\n",
      "|     2876727|       2019-03-16 00:00:00|0.2759241875|0.069715976563|\n",
      "|     4228748|       2019-01-01 00:00:00|        null|0.069753239583|\n",
      "|     7544023|       2019-10-12 00:00:00|0.2560663125|0.070321359375|\n",
      "|    10173668|       2019-01-01 00:00:00|0.2759241875|0.069196578125|\n",
      "|     9421818|       2019-05-15 00:00:00|0.2801066250|0.068470687500|\n",
      "|    11024074|       2019-09-30 00:00:00|0.2625706875|0.070321359375|\n",
      "|    12905429|       2019-04-21 00:00:00|0.2759241875|0.068656218750|\n",
      "|    15399553|       2019-02-27 00:00:00|0.2759241875|0.071934015625|\n",
      "|    16913997|       2019-11-18 00:00:00|        null|0.070855820313|\n",
      "|    15175821|       2019-02-20 00:00:00|        null|0.070855820313|\n",
      "|    18603071|       2019-06-23 00:00:00|0.2512031875|0.070321359375|\n",
      "|     1796059|       2019-05-31 00:00:00|        null|0.071261921875|\n",
      "|     3050940|       2019-01-23 00:00:00|0.2780154063|          null|\n",
      "|     5901619|       2019-03-17 00:00:00|0.2603708125|0.069261625000|\n",
      "|     5913654|       2020-04-07 00:00:00|0.2528653750|0.070321359375|\n",
      "|     7999732|       2019-01-08 00:00:00|0.2545295000|0.070180460938|\n",
      "|     6944048|       2019-05-13 00:00:00|        null|0.068470687500|\n",
      "|     7471014|       2019-01-01 00:00:00|        null|0.069617286458|\n",
      "|     5289751|       2019-01-01 00:00:00|0.2759241875|0.071134171875|\n",
      "|     9457152|       2019-01-24 00:00:00|0.2673180625|0.070321359375|\n",
      "+------------+--------------------------+------------+--------------+\n",
      "only showing top 20 rows\n",
      "\n",
      "Execution time: 260.16767501831055"
     ]
    }
   ],
   "source": [
    "import time\n",
    "start = time.time()\n",
    "\n",
    "df_tariffe_soggetti.show()\n",
    "\n",
    "end = time.time()\n",
    "print(\"Execution time:\",end - start)"
   ]
  },
  {
   "cell_type": "markdown",
   "metadata": {},
   "source": [
    "## Calcolo dell'indice di churn e del canale di contatto preferenziale"
   ]
  },
  {
   "cell_type": "code",
   "execution_count": 39,
   "metadata": {},
   "outputs": [
    {
     "data": {
      "application/vnd.jupyter.widget-view+json": {
       "model_id": "eaea32e2cf73467d9bd8a4b32f9629df",
       "version_major": 2,
       "version_minor": 0
      },
      "text/plain": [
       "FloatProgress(value=0.0, bar_style='info', description='Progress:', layout=Layout(height='25px', width='50%'),…"
      ]
     },
     "metadata": {},
     "output_type": "display_data"
    }
   ],
   "source": [
    "dyf_contratti = glueContext.create_dynamic_frame.from_catalog(database=\"datalake\", table_name=\"l_orcl_admin_contratti\")\n",
    "df_contratti=dyf_contratti.toDF()"
   ]
  },
  {
   "cell_type": "code",
   "execution_count": 40,
   "metadata": {},
   "outputs": [
    {
     "data": {
      "application/vnd.jupyter.widget-view+json": {
       "model_id": "92298ae3925f432ebf81c8f238190135",
       "version_major": 2,
       "version_minor": 0
      },
      "text/plain": [
       "FloatProgress(value=0.0, bar_style='info', description='Progress:', layout=Layout(height='25px', width='50%'),…"
      ]
     },
     "metadata": {},
     "output_type": "display_data"
    },
    {
     "name": "stdout",
     "output_type": "stream",
     "text": [
      "root\n",
      " |-- codice_contratto: string (nullable = true)\n",
      " |-- anno_prima_attivazione_fornitura: decimal(10,0) (nullable = true)\n",
      " |-- key_contratti: decimal(10,0) (nullable = true)\n",
      " |-- data_cessazione_fornitura: timestamp (nullable = true)\n",
      " |-- data_attivazione_fornitura: timestamp (nullable = true)\n",
      " |-- nome_commerciale: string (nullable = true)\n",
      " |-- canale_di_vendita: string (nullable = true)\n",
      " |-- key_punti_di_fornitura: decimal(10,0) (nullable = true)\n",
      " |-- key_soggetti: decimal(10,0) (nullable = true)\n",
      " |-- vettore: string (nullable = true)"
     ]
    }
   ],
   "source": [
    "df_contratti.printSchema()"
   ]
  },
  {
   "cell_type": "code",
   "execution_count": 41,
   "metadata": {},
   "outputs": [
    {
     "data": {
      "application/vnd.jupyter.widget-view+json": {
       "model_id": "7739259e920648caa291c8f81853e519",
       "version_major": 2,
       "version_minor": 0
      },
      "text/plain": [
       "FloatProgress(value=0.0, bar_style='info', description='Progress:', layout=Layout(height='25px', width='50%'),…"
      ]
     },
     "metadata": {},
     "output_type": "display_data"
    },
    {
     "name": "stdout",
     "output_type": "stream",
     "text": [
      "root\n",
      " |-- key_soggetti: decimal(10,0) (nullable = true)\n",
      " |-- canale_di_vendita: string (nullable = true)\n",
      " |-- count(canale_di_vendita): long (nullable = false)"
     ]
    }
   ],
   "source": [
    "\n",
    "df_soggetti_canale_vendita=df_contratti.groupBy (df_contratti.key_soggetti,df_contratti.canale_di_vendita).agg (F.count(df_contratti.canale_di_vendita))\n",
    "df_soggetti_canale_vendita.printSchema()"
   ]
  },
  {
   "cell_type": "code",
   "execution_count": 42,
   "metadata": {},
   "outputs": [
    {
     "data": {
      "application/vnd.jupyter.widget-view+json": {
       "model_id": "d10a9e004108449684a84a83b7242dc5",
       "version_major": 2,
       "version_minor": 0
      },
      "text/plain": [
       "FloatProgress(value=0.0, bar_style='info', description='Progress:', layout=Layout(height='25px', width='50%'),…"
      ]
     },
     "metadata": {},
     "output_type": "display_data"
    }
   ],
   "source": [
    "windowSpec=Window.partitionBy(\"key_soggetti\").\\\n",
    "orderBy(F.col(\"count(canale_di_vendita)\").desc())\n"
   ]
  },
  {
   "cell_type": "code",
   "execution_count": 43,
   "metadata": {},
   "outputs": [
    {
     "data": {
      "application/vnd.jupyter.widget-view+json": {
       "model_id": "8cf39e5fa14b4bbeb9796cd6255529d4",
       "version_major": 2,
       "version_minor": 0
      },
      "text/plain": [
       "FloatProgress(value=0.0, bar_style='info', description='Progress:', layout=Layout(height='25px', width='50%'),…"
      ]
     },
     "metadata": {},
     "output_type": "display_data"
    },
    {
     "name": "stdout",
     "output_type": "stream",
     "text": [
      "root\n",
      " |-- key_soggetti: decimal(10,0) (nullable = true)\n",
      " |-- canale_di_vendita: string (nullable = true)\n",
      " |-- count(canale_di_vendita): long (nullable = false)\n",
      " |-- rank: integer (nullable = true)"
     ]
    }
   ],
   "source": [
    "df_soggetti_canale_vendita=df_soggetti_canale_vendita.withColumn(\"rank\",F.row_number().over (windowSpec)).filter (F.col(\"rank\")==1)\n",
    "df_soggetti_canale_vendita.printSchema()"
   ]
  },
  {
   "cell_type": "code",
   "execution_count": 44,
   "metadata": {},
   "outputs": [
    {
     "data": {
      "application/vnd.jupyter.widget-view+json": {
       "model_id": "c2446bd184014e33b8cc2fa2afb6ffa5",
       "version_major": 2,
       "version_minor": 0
      },
      "text/plain": [
       "FloatProgress(value=0.0, bar_style='info', description='Progress:', layout=Layout(height='25px', width='50%'),…"
      ]
     },
     "metadata": {},
     "output_type": "display_data"
    },
    {
     "name": "stdout",
     "output_type": "stream",
     "text": [
      "root\n",
      " |-- key_soggetti: decimal(10,0) (nullable = true)\n",
      " |-- canale_di_vendita: string (nullable = true)"
     ]
    }
   ],
   "source": [
    "df_soggetti_canale_vendita=df_soggetti_canale_vendita.drop ('count(canale_di_vendita)','rank')\n",
    "df_soggetti_canale_vendita.printSchema()"
   ]
  },
  {
   "cell_type": "code",
   "execution_count": 45,
   "metadata": {},
   "outputs": [
    {
     "data": {
      "application/vnd.jupyter.widget-view+json": {
       "model_id": "f6c96a82712a4fb3ba77bf6b3b8deebf",
       "version_major": 2,
       "version_minor": 0
      },
      "text/plain": [
       "FloatProgress(value=0.0, bar_style='info', description='Progress:', layout=Layout(height='25px', width='50%'),…"
      ]
     },
     "metadata": {},
     "output_type": "display_data"
    }
   ],
   "source": [
    "df_contratti_churn=df_contratti.withColumn (\"hadChurn\",F.when (F.col('data_cessazione_fornitura')<cd,1).otherwise (0))\n"
   ]
  },
  {
   "cell_type": "code",
   "execution_count": 53,
   "metadata": {},
   "outputs": [
    {
     "data": {
      "application/vnd.jupyter.widget-view+json": {
       "model_id": "9e1c54f1fcad4d9eb86848cb7152c32e",
       "version_major": 2,
       "version_minor": 0
      },
      "text/plain": [
       "FloatProgress(value=0.0, bar_style='info', description='Progress:', layout=Layout(height='25px', width='50%'),…"
      ]
     },
     "metadata": {},
     "output_type": "display_data"
    }
   ],
   "source": [
    "df_contratti_churn=df_contratti_churn.groupBy(\"key_soggetti\").agg(F.sum(\"hadChurn\"))"
   ]
  },
  {
   "cell_type": "code",
   "execution_count": 54,
   "metadata": {},
   "outputs": [
    {
     "data": {
      "application/vnd.jupyter.widget-view+json": {
       "model_id": "815465c64652427fa800b63a0edc5e20",
       "version_major": 2,
       "version_minor": 0
      },
      "text/plain": [
       "FloatProgress(value=0.0, bar_style='info', description='Progress:', layout=Layout(height='25px', width='50%'),…"
      ]
     },
     "metadata": {},
     "output_type": "display_data"
    }
   ],
   "source": [
    "df_contratti_churn=df_contratti_churn.withColumn(\"Churn\",F.when (F.col('sum(hadChurn)')>=1,1).otherwise (0)).drop(\"sum(hadChurn)\")"
   ]
  },
  {
   "cell_type": "code",
   "execution_count": 55,
   "metadata": {},
   "outputs": [
    {
     "data": {
      "application/vnd.jupyter.widget-view+json": {
       "model_id": "8fc6769e921e4125b33e212d1ae0f8ae",
       "version_major": 2,
       "version_minor": 0
      },
      "text/plain": [
       "FloatProgress(value=0.0, bar_style='info', description='Progress:', layout=Layout(height='25px', width='50%'),…"
      ]
     },
     "metadata": {},
     "output_type": "display_data"
    },
    {
     "name": "stdout",
     "output_type": "stream",
     "text": [
      "root\n",
      " |-- key_soggetti: decimal(10,0) (nullable = true)\n",
      " |-- Churn: integer (nullable = false)"
     ]
    }
   ],
   "source": [
    "df_contratti_churn.printSchema()"
   ]
  },
  {
   "cell_type": "code",
   "execution_count": 56,
   "metadata": {},
   "outputs": [
    {
     "data": {
      "application/vnd.jupyter.widget-view+json": {
       "model_id": "db2808d1db454bfa8484dacb48c0a471",
       "version_major": 2,
       "version_minor": 0
      },
      "text/plain": [
       "FloatProgress(value=0.0, bar_style='info', description='Progress:', layout=Layout(height='25px', width='50%'),…"
      ]
     },
     "metadata": {},
     "output_type": "display_data"
    },
    {
     "name": "stdout",
     "output_type": "stream",
     "text": [
      "+------------+-----+\n",
      "|key_soggetti|Churn|\n",
      "+------------+-----+\n",
      "|     8561429|    0|\n",
      "|     9601660|    0|\n",
      "|     9122857|    0|\n",
      "|     9504386|    0|\n",
      "|     8598775|    1|\n",
      "|    10685034|    0|\n",
      "|    10327079|    1|\n",
      "|     9969250|    0|\n",
      "|    10574149|    1|\n",
      "|     7633313|    0|\n",
      "|     7813673|    0|\n",
      "|     8162895|    0|\n",
      "|    10801897|    0|\n",
      "|     9677413|    0|\n",
      "|    10381113|    0|\n",
      "|     9809614|    0|\n",
      "|     7217907|    0|\n",
      "|     7127130|    0|\n",
      "|     9464453|    0|\n",
      "|     7154945|    0|\n",
      "+------------+-----+\n",
      "only showing top 20 rows\n",
      "\n",
      "Execution time: 95.7476737499237"
     ]
    }
   ],
   "source": [
    "import time\n",
    "start = time.time()\n",
    "\n",
    "df_contratti_churn.show()\n",
    "\n",
    "end = time.time()\n",
    "print(\"Execution time:\",end - start)\n"
   ]
  },
  {
   "cell_type": "markdown",
   "metadata": {},
   "source": [
    "### Unpivot tabella regioni"
   ]
  },
  {
   "cell_type": "code",
   "execution_count": 57,
   "metadata": {},
   "outputs": [
    {
     "data": {
      "application/vnd.jupyter.widget-view+json": {
       "model_id": "9e6f5d74c57b48cb9eea6cc2e9d57a0c",
       "version_major": 2,
       "version_minor": 0
      },
      "text/plain": [
       "FloatProgress(value=0.0, bar_style='info', description='Progress:', layout=Layout(height='25px', width='50%'),…"
      ]
     },
     "metadata": {},
     "output_type": "display_data"
    },
    {
     "name": "stdout",
     "output_type": "stream",
     "text": [
      "root\n",
      " |-- codice_contratto: string (nullable = true)\n",
      " |-- anno_prima_attivazione_fornitura: decimal(10,0) (nullable = true)\n",
      " |-- key_contratti: decimal(10,0) (nullable = true)\n",
      " |-- data_cessazione_fornitura: timestamp (nullable = true)\n",
      " |-- data_attivazione_fornitura: timestamp (nullable = true)\n",
      " |-- nome_commerciale: string (nullable = true)\n",
      " |-- canale_di_vendita: string (nullable = true)\n",
      " |-- key_punti_di_fornitura: decimal(10,0) (nullable = true)\n",
      " |-- key_soggetti: decimal(10,0) (nullable = true)\n",
      " |-- vettore: string (nullable = true)"
     ]
    }
   ],
   "source": [
    "dyf_contratti = glueContext.create_dynamic_frame.from_catalog(database=\"datalake\", table_name=\"l_orcl_admin_contratti\")\n",
    "df_contratti=dyf_contratti.toDF()\n",
    "df_contratti.printSchema()"
   ]
  },
  {
   "cell_type": "code",
   "execution_count": 58,
   "metadata": {},
   "outputs": [
    {
     "data": {
      "application/vnd.jupyter.widget-view+json": {
       "model_id": "c8b7671aceec4028847f7be6ef7f4418",
       "version_major": 2,
       "version_minor": 0
      },
      "text/plain": [
       "FloatProgress(value=0.0, bar_style='info', description='Progress:', layout=Layout(height='25px', width='50%'),…"
      ]
     },
     "metadata": {},
     "output_type": "display_data"
    },
    {
     "name": "stdout",
     "output_type": "stream",
     "text": [
      "root\n",
      " |-- indirizzo: string (nullable = true)\n",
      " |-- regione: string (nullable = true)\n",
      " |-- key_punti_di_fornitura: decimal(10,0) (nullable = true)"
     ]
    }
   ],
   "source": [
    "dyf_fornitura = glueContext.create_dynamic_frame.from_catalog(database=\"datalake\", table_name=\"l_orcl_admin_punti_di_fornitura\")\n",
    "df_fornitura=dyf_fornitura.toDF()\n",
    "df_fornitura.printSchema()"
   ]
  },
  {
   "cell_type": "code",
   "execution_count": 59,
   "metadata": {},
   "outputs": [
    {
     "data": {
      "application/vnd.jupyter.widget-view+json": {
       "model_id": "28b63523ae24465f9a68e1cbe9e2321e",
       "version_major": 2,
       "version_minor": 0
      },
      "text/plain": [
       "FloatProgress(value=0.0, bar_style='info', description='Progress:', layout=Layout(height='25px', width='50%'),…"
      ]
     },
     "metadata": {},
     "output_type": "display_data"
    },
    {
     "name": "stdout",
     "output_type": "stream",
     "text": [
      "root\n",
      " |-- key_soggetti: decimal(10,0) (nullable = true)\n",
      " |-- regione: string (nullable = true)\n",
      " |-- Abruzzo: long (nullable = true)\n",
      " |-- Basilicata: long (nullable = true)\n",
      " |-- Calabria: long (nullable = true)\n",
      " |-- Campania: long (nullable = true)\n",
      " |-- Emilia romagna: long (nullable = true)\n",
      " |-- Friuli venezia giulia: long (nullable = true)\n",
      " |-- Lazio: long (nullable = true)\n",
      " |-- Liguria: long (nullable = true)\n",
      " |-- Lombardia: long (nullable = true)\n",
      " |-- Marche: long (nullable = true)\n",
      " |-- Molise: long (nullable = true)\n",
      " |-- Piemonte: long (nullable = true)\n",
      " |-- Puglia: long (nullable = true)\n",
      " |-- Sardegna: long (nullable = true)\n",
      " |-- Sicilia: long (nullable = true)\n",
      " |-- Toscana: long (nullable = true)\n",
      " |-- Trentino alto adige: long (nullable = true)\n",
      " |-- Umbria: long (nullable = true)\n",
      " |-- Valle d aosta: long (nullable = true)\n",
      " |-- Veneto: long (nullable = true)"
     ]
    }
   ],
   "source": [
    "df_fonitura_per_contratto=df_contratti.join(df_fornitura,\"key_punti_di_fornitura\").groupBy (\"key_soggetti\",\"regione\").pivot(\"regione\").agg (F.count(\"key_punti_di_fornitura\"))\n",
    "df_fonitura_per_contratto.printSchema()"
   ]
  },
  {
   "cell_type": "code",
   "execution_count": null,
   "metadata": {},
   "outputs": [],
   "source": []
  },
  {
   "cell_type": "markdown",
   "metadata": {},
   "source": [
    "## Tutto Insieme"
   ]
  },
  {
   "cell_type": "code",
   "execution_count": 60,
   "metadata": {},
   "outputs": [
    {
     "data": {
      "application/vnd.jupyter.widget-view+json": {
       "model_id": "42d80508f53a48baa3f6f9cec7581c85",
       "version_major": 2,
       "version_minor": 0
      },
      "text/plain": [
       "FloatProgress(value=0.0, bar_style='info', description='Progress:', layout=Layout(height='25px', width='50%'),…"
      ]
     },
     "metadata": {},
     "output_type": "display_data"
    }
   ],
   "source": [
    "output=deduplica_soggetti.join (df_contratti_per_soggetto,\"key_soggetti\").\\\n",
    "join(df_debito_medio_per_cliente,\"key_soggetti\").\\\n",
    "join(df_tariffe_soggetti,\"key_soggetti\").\\\n",
    "join(df_contratti_churn,\"key_soggetti\").\\\n",
    "join (df_soggetti_canale_vendita,\"key_soggetti\").\\\n",
    "join (df_fonitura_per_contratto,\"key_soggetti\")"
   ]
  },
  {
   "cell_type": "code",
   "execution_count": 61,
   "metadata": {},
   "outputs": [
    {
     "data": {
      "application/vnd.jupyter.widget-view+json": {
       "model_id": "fd8b2e4f13024c51aecd7f2400099fc0",
       "version_major": 2,
       "version_minor": 0
      },
      "text/plain": [
       "FloatProgress(value=0.0, bar_style='info', description='Progress:', layout=Layout(height='25px', width='50%'),…"
      ]
     },
     "metadata": {},
     "output_type": "display_data"
    },
    {
     "name": "stdout",
     "output_type": "stream",
     "text": [
      "root\n",
      " |-- key_soggetti: decimal(10,0) (nullable = true)\n",
      " |-- nazione_nascita: string (nullable = true)\n",
      " |-- rating_creditizio: string (nullable = true)\n",
      " |-- retention_value: string (nullable = true)\n",
      " |-- comune_residenza: string (nullable = true)\n",
      " |-- cognome: string (nullable = true)\n",
      " |-- eta_cliente: decimal(10,0) (nullable = true)\n",
      " |-- vas: string (nullable = true)\n",
      " |-- canale_contatto_preferenziale: string (nullable = true)\n",
      " |-- titolo_di_studio: string (nullable = true)\n",
      " |-- tipologia_cliente: string (nullable = true)\n",
      " |-- data_iscrizione_sportello_online: timestamp (nullable = true)\n",
      " |-- nome: string (nullable = true)\n",
      " |-- rank: integer (nullable = true)\n",
      " |-- count: long (nullable = false)\n",
      " |-- debito_medio: double (nullable = true)\n",
      " |-- data_attivazione_fornitura: timestamp (nullable = true)\n",
      " |-- media_GAS: decimal(14,10) (nullable = true)\n",
      " |-- media_ELE: decimal(19,12) (nullable = true)\n",
      " |-- Churn: integer (nullable = false)\n",
      " |-- canale_di_vendita: string (nullable = true)\n",
      " |-- regione: string (nullable = true)\n",
      " |-- Abruzzo: long (nullable = true)\n",
      " |-- Basilicata: long (nullable = true)\n",
      " |-- Calabria: long (nullable = true)\n",
      " |-- Campania: long (nullable = true)\n",
      " |-- Emilia romagna: long (nullable = true)\n",
      " |-- Friuli venezia giulia: long (nullable = true)\n",
      " |-- Lazio: long (nullable = true)\n",
      " |-- Liguria: long (nullable = true)\n",
      " |-- Lombardia: long (nullable = true)\n",
      " |-- Marche: long (nullable = true)\n",
      " |-- Molise: long (nullable = true)\n",
      " |-- Piemonte: long (nullable = true)\n",
      " |-- Puglia: long (nullable = true)\n",
      " |-- Sardegna: long (nullable = true)\n",
      " |-- Sicilia: long (nullable = true)\n",
      " |-- Toscana: long (nullable = true)\n",
      " |-- Trentino alto adige: long (nullable = true)\n",
      " |-- Umbria: long (nullable = true)\n",
      " |-- Valle d aosta: long (nullable = true)\n",
      " |-- Veneto: long (nullable = true)"
     ]
    }
   ],
   "source": [
    "output.printSchema()"
   ]
  },
  {
   "cell_type": "code",
   "execution_count": 62,
   "metadata": {},
   "outputs": [
    {
     "data": {
      "application/vnd.jupyter.widget-view+json": {
       "model_id": "17a18f0666e440f4b622f219a5a1842f",
       "version_major": 2,
       "version_minor": 0
      },
      "text/plain": [
       "FloatProgress(value=0.0, bar_style='info', description='Progress:', layout=Layout(height='25px', width='50%'),…"
      ]
     },
     "metadata": {},
     "output_type": "display_data"
    },
    {
     "name": "stdout",
     "output_type": "stream",
     "text": [
      "+------------+---------------+-----------------+---------------+----------------+-------+-----------+----+-----------------------------+-----------------+-----------------+--------------------------------+---------+----+-----+------------+--------------------------+------------+--------------+-----+-------------------+---------+-------+----------+--------+--------+--------------+---------------------+-----+-------+---------+------+------+--------+------+--------+-------+-------+-------------------+------+-------------+------+\n",
      "|key_soggetti|nazione_nascita|rating_creditizio|retention_value|comune_residenza|cognome|eta_cliente| vas|canale_contatto_preferenziale| titolo_di_studio|tipologia_cliente|data_iscrizione_sportello_online|     nome|rank|count|debito_medio|data_attivazione_fornitura|   media_GAS|     media_ELE|Churn|  canale_di_vendita|  regione|Abruzzo|Basilicata|Calabria|Campania|Emilia romagna|Friuli venezia giulia|Lazio|Liguria|Lombardia|Marche|Molise|Piemonte|Puglia|Sardegna|Sicilia|Toscana|Trentino alto adige|Umbria|Valle d aosta|Veneto|\n",
      "+------------+---------------+-----------------+---------------+----------------+-------+-----------+----+-----------------------------+-----------------+-----------------+--------------------------------+---------+----+-----+------------+--------------------------+------------+--------------+-----+-------------------+---------+-------+----------+--------+--------+--------------+---------------------+-----+-------+---------+------+------+--------+------+--------+-------+-------+-------------------+------+-------------+------+\n",
      "|       37261|         Italia|                C|           null|   Ascoli Piceno|  Morin|         66|null|                     Telefono|        Dottorato|     Residenziale|             2016-02-21 00:00:00|  Amerigo|   1|    3|      682.48|       2019-10-22 00:00:00|0.2545295000|0.066620015625|    1|Teleseller Outbound|Lombardia|   null|      null|    null|    null|          null|                 null| null|   null|        1|  null|  null|    null|  null|    null|   null|   null|               null|  null|         null|  null|\n",
      "|       37261|         Italia|                C|           null|   Ascoli Piceno|  Morin|         66|null|                     Telefono|        Dottorato|     Residenziale|             2016-02-21 00:00:00|  Amerigo|   1|    3|      682.48|       2019-10-22 00:00:00|0.2545295000|0.066620015625|    1|Teleseller Outbound| Campania|   null|      null|    null|       1|          null|                 null| null|   null|     null|  null|  null|    null|  null|    null|   null|   null|               null|  null|         null|  null|\n",
      "|       37261|         Italia|                C|           null|   Ascoli Piceno|  Morin|         66|null|                     Telefono|        Dottorato|     Residenziale|             2016-02-21 00:00:00|  Amerigo|   1|    3|      682.48|       2019-10-22 00:00:00|0.2545295000|0.066620015625|    1|Teleseller Outbound|   Veneto|   null|      null|    null|    null|          null|                 null| null|   null|     null|  null|  null|    null|  null|    null|   null|   null|               null|  null|         null|     1|\n",
      "|       71429|         Italia|                C|           null|          Rimini|  Calvi|         34|   N|                     Telefono|Laurea magistrale|     Residenziale|             2018-01-18 00:00:00|   Giulio|   1|    2|      300.43|       2019-09-18 00:00:00|        null|0.068057734375|    0|        Back Office|   Veneto|   null|      null|    null|    null|          null|                 null| null|   null|     null|  null|  null|    null|  null|    null|   null|   null|               null|  null|         null|     2|\n",
      "|      138055|         Italia|                B|           null|         Brescia|  Fulco|         40|   Y|                         null|Laurea magistrale|     Residenziale|                            null| Filumena|   1|    2|      939.06|       2020-07-13 00:00:00|        null|0.070447492188|    0|Call Center Inbound|Lombardia|   null|      null|    null|    null|          null|                 null| null|   null|        1|  null|  null|    null|  null|    null|   null|   null|               null|  null|         null|  null|\n",
      "|      138055|         Italia|                B|           null|         Brescia|  Fulco|         40|   Y|                         null|Laurea magistrale|     Residenziale|                            null| Filumena|   1|    2|      939.06|       2020-07-13 00:00:00|        null|0.070447492188|    0|Call Center Inbound| Campania|   null|      null|    null|       1|          null|                 null| null|   null|     null|  null|  null|    null|  null|    null|   null|   null|               null|  null|         null|  null|\n",
      "|      167440|         Italia|                D|           null|         Scafati|  Tomeo|         23|null|                        Email|     Laurea breve|     Residenziale|                            null|    Sesto|   1|    1|        22.2|       2019-01-01 00:00:00|        null|0.068213593750|    0|                WEB|   Umbria|   null|      null|    null|    null|          null|                 null| null|   null|     null|  null|  null|    null|  null|    null|   null|   null|               null|     1|         null|  null|\n",
      "|      300199|         Italia|                F|         BRONZE|       La Spezia|Cifelli|         39|null|                        Email|     Laurea breve|     Residenziale|                            null| Pasquale|   1|    3|      210.49|       2019-01-01 00:00:00|0.2589712188|0.066620015625|    0|        Back Office|    Lazio|   null|      null|    null|    null|          null|                 null|    1|   null|     null|  null|  null|    null|  null|    null|   null|   null|               null|  null|         null|  null|\n",
      "|      300199|         Italia|                F|         BRONZE|       La Spezia|Cifelli|         39|null|                        Email|     Laurea breve|     Residenziale|                            null| Pasquale|   1|    3|      210.49|       2019-01-01 00:00:00|0.2589712188|0.066620015625|    0|        Back Office| Calabria|   null|      null|       1|    null|          null|                 null| null|   null|     null|  null|  null|    null|  null|    null|   null|   null|               null|  null|         null|  null|\n",
      "|      300199|         Italia|                F|         BRONZE|       La Spezia|Cifelli|         39|null|                        Email|     Laurea breve|     Residenziale|                            null| Pasquale|   1|    3|      210.49|       2019-01-01 00:00:00|0.2589712188|0.066620015625|    0|        Back Office|  Sicilia|   null|      null|    null|    null|          null|                 null| null|   null|     null|  null|  null|    null|  null|    null|      1|   null|               null|  null|         null|  null|\n",
      "|      326470|         Italia|                B|           null|         Salerno| Malito|         59|null|                         null|     Laurea breve|     Residenziale|                            null|    Cosmo|   1|    3|       133.7|       2020-02-05 00:00:00|0.2557662500|0.067954375000|    1|Teleseller Outbound|Lombardia|   null|      null|    null|    null|          null|                 null| null|   null|        2|  null|  null|    null|  null|    null|   null|   null|               null|  null|         null|  null|\n",
      "|      326470|         Italia|                B|           null|         Salerno| Malito|         59|null|                         null|     Laurea breve|     Residenziale|                            null|    Cosmo|   1|    3|       133.7|       2020-02-05 00:00:00|0.2557662500|0.067954375000|    1|Teleseller Outbound|   Veneto|   null|      null|    null|    null|          null|                 null| null|   null|     null|  null|  null|    null|  null|    null|   null|   null|               null|  null|         null|     1|\n",
      "|      392058|         Italia|                D|           null|          Modica|   Aleo|         34|null|                          SMS|Laurea magistrale|     Residenziale|                            null|   Aeneas|   1|    3|       38.77|       2019-02-02 00:00:00|0.2545295000|0.070721406250|    1|        Back Office|   Puglia|   null|      null|    null|    null|          null|                 null| null|   null|     null|  null|  null|    null|     1|    null|   null|   null|               null|  null|         null|  null|\n",
      "|      392058|         Italia|                D|           null|          Modica|   Aleo|         34|null|                          SMS|Laurea magistrale|     Residenziale|                            null|   Aeneas|   1|    3|       38.77|       2019-02-02 00:00:00|0.2545295000|0.070721406250|    1|        Back Office| Sardegna|   null|      null|    null|    null|          null|                 null| null|   null|     null|  null|  null|    null|  null|       1|   null|   null|               null|  null|         null|  null|\n",
      "|      392058|         Italia|                D|           null|          Modica|   Aleo|         34|null|                          SMS|Laurea magistrale|     Residenziale|                            null|   Aeneas|   1|    3|       38.77|       2019-02-02 00:00:00|0.2545295000|0.070721406250|    1|        Back Office|Lombardia|   null|      null|    null|    null|          null|                 null| null|   null|        1|  null|  null|    null|  null|    null|   null|   null|               null|  null|         null|  null|\n",
      "|      456901|         Italia|                B|           null|          Torino|  Fonti|         56|null|                         null|     Laurea breve|     Residenziale|                            null|  Xaviera|   1|    3|      284.19|       2019-01-01 00:00:00|        null|0.069005148438|    1|Teleseller Outbound| Campania|   null|      null|    null|       1|          null|                 null| null|   null|     null|  null|  null|    null|  null|    null|   null|   null|               null|  null|         null|  null|\n",
      "|      456901|         Italia|                B|           null|          Torino|  Fonti|         56|null|                         null|     Laurea breve|     Residenziale|                            null|  Xaviera|   1|    3|      284.19|       2019-01-01 00:00:00|        null|0.069005148438|    1|Teleseller Outbound|Lombardia|   null|      null|    null|    null|          null|                 null| null|   null|        1|  null|  null|    null|  null|    null|   null|   null|               null|  null|         null|  null|\n",
      "|      456901|         Italia|                B|           null|          Torino|  Fonti|         56|null|                         null|     Laurea breve|     Residenziale|                            null|  Xaviera|   1|    3|      284.19|       2019-01-01 00:00:00|        null|0.069005148438|    1|Teleseller Outbound|    Lazio|   null|      null|    null|    null|          null|                 null|    1|   null|     null|  null|  null|    null|  null|    null|   null|   null|               null|  null|         null|  null|\n",
      "|      465487|         Italia|                B|           null|            Roma| Varone|         51|null|                         null|Laurea magistrale|     Residenziale|             2016-03-12 00:00:00|Giachetta|   1|    1|       186.9|       2020-04-25 00:00:00|        null|0.066620015625|    0|Call Center Inbound|   Veneto|   null|      null|    null|    null|          null|                 null| null|   null|     null|  null|  null|    null|  null|    null|   null|   null|               null|  null|         null|     1|\n",
      "|      481117|         Italia|                F|           null|         Palermo| Capone|         40|null|               Posta cartacea|        Dottorato|     Residenziale|                            null|  Eufemia|   1|    2|      158.76|       2019-01-01 00:00:00|        null|0.069465046875|    0|Teleseller Outbound| Calabria|   null|      null|       1|    null|          null|                 null| null|   null|     null|  null|  null|    null|  null|    null|   null|   null|               null|  null|         null|  null|\n",
      "+------------+---------------+-----------------+---------------+----------------+-------+-----------+----+-----------------------------+-----------------+-----------------+--------------------------------+---------+----+-----+------------+--------------------------+------------+--------------+-----+-------------------+---------+-------+----------+--------+--------+--------------+---------------------+-----+-------+---------+------+------+--------+------+--------+-------+-------+-------------------+------+-------------+------+\n",
      "only showing top 20 rows\n",
      "\n",
      "Execution time: 668.6115524768829"
     ]
    }
   ],
   "source": [
    "import time\n",
    "start = time.time()\n",
    "\n",
    "output.show()\n",
    "\n",
    "end = time.time()\n",
    "print(\"Execution time:\",end - start)"
   ]
  },
  {
   "cell_type": "code",
   "execution_count": null,
   "metadata": {},
   "outputs": [],
   "source": []
  }
 ],
 "metadata": {
  "kernelspec": {
   "display_name": "Sparkmagic (PySpark)",
   "language": "",
   "name": "pysparkkernel"
  },
  "language_info": {
   "codemirror_mode": {
    "name": "python",
    "version": 3
   },
   "mimetype": "text/x-python",
   "name": "pyspark",
   "pygments_lexer": "python3"
  }
 },
 "nbformat": 4,
 "nbformat_minor": 4
}
